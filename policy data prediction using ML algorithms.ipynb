{
 "cells": [
  {
   "cell_type": "code",
   "execution_count": 1,
   "id": "fadf31df",
   "metadata": {},
   "outputs": [],
   "source": [
    "import pandas as pd\n",
    "import numpy as np\n",
    "import matplotlib.pyplot as plt\n",
    "import seaborn as sns"
   ]
  },
  {
   "cell_type": "code",
   "execution_count": 2,
   "id": "09937643",
   "metadata": {},
   "outputs": [
    {
     "data": {
      "text/html": [
       "<div>\n",
       "<style scoped>\n",
       "    .dataframe tbody tr th:only-of-type {\n",
       "        vertical-align: middle;\n",
       "    }\n",
       "\n",
       "    .dataframe tbody tr th {\n",
       "        vertical-align: top;\n",
       "    }\n",
       "\n",
       "    .dataframe thead th {\n",
       "        text-align: right;\n",
       "    }\n",
       "</style>\n",
       "<table border=\"1\" class=\"dataframe\">\n",
       "  <thead>\n",
       "    <tr style=\"text-align: right;\">\n",
       "      <th></th>\n",
       "      <th>policy_id</th>\n",
       "      <th>policy_tenure</th>\n",
       "      <th>age_of_car</th>\n",
       "      <th>age_of_policyholder</th>\n",
       "      <th>area_cluster</th>\n",
       "      <th>population_density</th>\n",
       "      <th>make</th>\n",
       "      <th>segment</th>\n",
       "      <th>model</th>\n",
       "      <th>fuel_type</th>\n",
       "      <th>...</th>\n",
       "      <th>is_brake_assist</th>\n",
       "      <th>is_power_door_locks</th>\n",
       "      <th>is_central_locking</th>\n",
       "      <th>is_power_steering</th>\n",
       "      <th>is_driver_seat_height_adjustable</th>\n",
       "      <th>is_day_night_rear_view_mirror</th>\n",
       "      <th>is_ecw</th>\n",
       "      <th>is_speed_alert</th>\n",
       "      <th>ncap_rating</th>\n",
       "      <th>is_claim</th>\n",
       "    </tr>\n",
       "  </thead>\n",
       "  <tbody>\n",
       "    <tr>\n",
       "      <th>0</th>\n",
       "      <td>ID00001</td>\n",
       "      <td>0.515874</td>\n",
       "      <td>0.05</td>\n",
       "      <td>0.644231</td>\n",
       "      <td>C1</td>\n",
       "      <td>4990</td>\n",
       "      <td>1</td>\n",
       "      <td>A</td>\n",
       "      <td>M1</td>\n",
       "      <td>CNG</td>\n",
       "      <td>...</td>\n",
       "      <td>No</td>\n",
       "      <td>No</td>\n",
       "      <td>No</td>\n",
       "      <td>Yes</td>\n",
       "      <td>No</td>\n",
       "      <td>No</td>\n",
       "      <td>No</td>\n",
       "      <td>Yes</td>\n",
       "      <td>0</td>\n",
       "      <td>0</td>\n",
       "    </tr>\n",
       "    <tr>\n",
       "      <th>1</th>\n",
       "      <td>ID00002</td>\n",
       "      <td>0.672619</td>\n",
       "      <td>0.02</td>\n",
       "      <td>0.375000</td>\n",
       "      <td>C2</td>\n",
       "      <td>27003</td>\n",
       "      <td>1</td>\n",
       "      <td>A</td>\n",
       "      <td>M1</td>\n",
       "      <td>CNG</td>\n",
       "      <td>...</td>\n",
       "      <td>No</td>\n",
       "      <td>No</td>\n",
       "      <td>No</td>\n",
       "      <td>Yes</td>\n",
       "      <td>No</td>\n",
       "      <td>No</td>\n",
       "      <td>No</td>\n",
       "      <td>Yes</td>\n",
       "      <td>0</td>\n",
       "      <td>0</td>\n",
       "    </tr>\n",
       "    <tr>\n",
       "      <th>2</th>\n",
       "      <td>ID00003</td>\n",
       "      <td>0.841110</td>\n",
       "      <td>0.02</td>\n",
       "      <td>0.384615</td>\n",
       "      <td>C3</td>\n",
       "      <td>4076</td>\n",
       "      <td>1</td>\n",
       "      <td>A</td>\n",
       "      <td>M1</td>\n",
       "      <td>CNG</td>\n",
       "      <td>...</td>\n",
       "      <td>No</td>\n",
       "      <td>No</td>\n",
       "      <td>No</td>\n",
       "      <td>Yes</td>\n",
       "      <td>No</td>\n",
       "      <td>No</td>\n",
       "      <td>No</td>\n",
       "      <td>Yes</td>\n",
       "      <td>0</td>\n",
       "      <td>0</td>\n",
       "    </tr>\n",
       "    <tr>\n",
       "      <th>3</th>\n",
       "      <td>ID00004</td>\n",
       "      <td>0.900277</td>\n",
       "      <td>0.11</td>\n",
       "      <td>0.432692</td>\n",
       "      <td>C4</td>\n",
       "      <td>21622</td>\n",
       "      <td>1</td>\n",
       "      <td>C1</td>\n",
       "      <td>M2</td>\n",
       "      <td>Petrol</td>\n",
       "      <td>...</td>\n",
       "      <td>Yes</td>\n",
       "      <td>Yes</td>\n",
       "      <td>Yes</td>\n",
       "      <td>Yes</td>\n",
       "      <td>Yes</td>\n",
       "      <td>Yes</td>\n",
       "      <td>Yes</td>\n",
       "      <td>Yes</td>\n",
       "      <td>2</td>\n",
       "      <td>0</td>\n",
       "    </tr>\n",
       "    <tr>\n",
       "      <th>4</th>\n",
       "      <td>ID00005</td>\n",
       "      <td>0.596403</td>\n",
       "      <td>0.11</td>\n",
       "      <td>0.634615</td>\n",
       "      <td>C5</td>\n",
       "      <td>34738</td>\n",
       "      <td>2</td>\n",
       "      <td>A</td>\n",
       "      <td>M3</td>\n",
       "      <td>Petrol</td>\n",
       "      <td>...</td>\n",
       "      <td>No</td>\n",
       "      <td>Yes</td>\n",
       "      <td>Yes</td>\n",
       "      <td>Yes</td>\n",
       "      <td>No</td>\n",
       "      <td>Yes</td>\n",
       "      <td>Yes</td>\n",
       "      <td>Yes</td>\n",
       "      <td>2</td>\n",
       "      <td>0</td>\n",
       "    </tr>\n",
       "  </tbody>\n",
       "</table>\n",
       "<p>5 rows × 44 columns</p>\n",
       "</div>"
      ],
      "text/plain": [
       "  policy_id  policy_tenure  age_of_car  age_of_policyholder area_cluster  \\\n",
       "0   ID00001       0.515874        0.05             0.644231           C1   \n",
       "1   ID00002       0.672619        0.02             0.375000           C2   \n",
       "2   ID00003       0.841110        0.02             0.384615           C3   \n",
       "3   ID00004       0.900277        0.11             0.432692           C4   \n",
       "4   ID00005       0.596403        0.11             0.634615           C5   \n",
       "\n",
       "   population_density  make segment model fuel_type  ... is_brake_assist  \\\n",
       "0                4990     1       A    M1       CNG  ...              No   \n",
       "1               27003     1       A    M1       CNG  ...              No   \n",
       "2                4076     1       A    M1       CNG  ...              No   \n",
       "3               21622     1      C1    M2    Petrol  ...             Yes   \n",
       "4               34738     2       A    M3    Petrol  ...              No   \n",
       "\n",
       "  is_power_door_locks is_central_locking  is_power_steering  \\\n",
       "0                  No                 No                Yes   \n",
       "1                  No                 No                Yes   \n",
       "2                  No                 No                Yes   \n",
       "3                 Yes                Yes                Yes   \n",
       "4                 Yes                Yes                Yes   \n",
       "\n",
       "  is_driver_seat_height_adjustable is_day_night_rear_view_mirror is_ecw  \\\n",
       "0                               No                            No     No   \n",
       "1                               No                            No     No   \n",
       "2                               No                            No     No   \n",
       "3                              Yes                           Yes    Yes   \n",
       "4                               No                           Yes    Yes   \n",
       "\n",
       "  is_speed_alert ncap_rating is_claim  \n",
       "0            Yes           0        0  \n",
       "1            Yes           0        0  \n",
       "2            Yes           0        0  \n",
       "3            Yes           2        0  \n",
       "4            Yes           2        0  \n",
       "\n",
       "[5 rows x 44 columns]"
      ]
     },
     "execution_count": 2,
     "metadata": {},
     "output_type": "execute_result"
    }
   ],
   "source": [
    "data=pd.read_csv(\"C:\\\\Users\\\\ADMINH\\\\Downloads\\\\policy_data _train.csv\")\n",
    "data.head()"
   ]
  },
  {
   "cell_type": "code",
   "execution_count": 75,
   "id": "c863a787",
   "metadata": {},
   "outputs": [
    {
     "name": "stdout",
     "output_type": "stream",
     "text": [
      "<class 'pandas.core.frame.DataFrame'>\n",
      "RangeIndex: 58592 entries, 0 to 58591\n",
      "Data columns (total 44 columns):\n",
      " #   Column                            Non-Null Count  Dtype  \n",
      "---  ------                            --------------  -----  \n",
      " 0   policy_id                         58592 non-null  object \n",
      " 1   policy_tenure                     58592 non-null  float64\n",
      " 2   age_of_car                        58592 non-null  float64\n",
      " 3   age_of_policyholder               58592 non-null  float64\n",
      " 4   area_cluster                      58592 non-null  object \n",
      " 5   population_density                58592 non-null  int64  \n",
      " 6   make                              58592 non-null  int64  \n",
      " 7   segment                           58592 non-null  object \n",
      " 8   model                             58592 non-null  object \n",
      " 9   fuel_type                         58592 non-null  object \n",
      " 10  max_torque                        58592 non-null  object \n",
      " 11  max_power                         58592 non-null  object \n",
      " 12  engine_type                       58592 non-null  object \n",
      " 13  airbags                           58592 non-null  int64  \n",
      " 14  is_esc                            58592 non-null  object \n",
      " 15  is_adjustable_steering            58592 non-null  object \n",
      " 16  is_tpms                           58592 non-null  object \n",
      " 17  is_parking_sensors                58592 non-null  object \n",
      " 18  is_parking_camera                 58592 non-null  object \n",
      " 19  rear_brakes_type                  58592 non-null  object \n",
      " 20  displacement                      58592 non-null  int64  \n",
      " 21  cylinder                          58592 non-null  int64  \n",
      " 22  transmission_type                 58592 non-null  object \n",
      " 23  gear_box                          58592 non-null  int64  \n",
      " 24  steering_type                     58592 non-null  object \n",
      " 25  turning_radius                    58592 non-null  float64\n",
      " 26  length                            58592 non-null  int64  \n",
      " 27  width                             58592 non-null  int64  \n",
      " 28  height                            58592 non-null  int64  \n",
      " 29  gross_weight                      58592 non-null  int64  \n",
      " 30  is_front_fog_lights               58592 non-null  object \n",
      " 31  is_rear_window_wiper              58592 non-null  object \n",
      " 32  is_rear_window_washer             58592 non-null  object \n",
      " 33  is_rear_window_defogger           58592 non-null  object \n",
      " 34  is_brake_assist                   58592 non-null  object \n",
      " 35  is_power_door_locks               58592 non-null  object \n",
      " 36  is_central_locking                58592 non-null  object \n",
      " 37  is_power_steering                 58592 non-null  object \n",
      " 38  is_driver_seat_height_adjustable  58592 non-null  object \n",
      " 39  is_day_night_rear_view_mirror     58592 non-null  object \n",
      " 40  is_ecw                            58592 non-null  object \n",
      " 41  is_speed_alert                    58592 non-null  object \n",
      " 42  ncap_rating                       58592 non-null  int64  \n",
      " 43  is_claim                          58592 non-null  int64  \n",
      "dtypes: float64(4), int64(12), object(28)\n",
      "memory usage: 19.7+ MB\n"
     ]
    }
   ],
   "source": [
    "data.info()"
   ]
  },
  {
   "cell_type": "code",
   "execution_count": 76,
   "id": "5c36210c",
   "metadata": {},
   "outputs": [
    {
     "data": {
      "text/plain": [
       "policy_id                            object\n",
       "policy_tenure                       float64\n",
       "age_of_car                          float64\n",
       "age_of_policyholder                 float64\n",
       "area_cluster                         object\n",
       "population_density                    int64\n",
       "make                                  int64\n",
       "segment                              object\n",
       "model                                object\n",
       "fuel_type                            object\n",
       "max_torque                           object\n",
       "max_power                            object\n",
       "engine_type                          object\n",
       "airbags                               int64\n",
       "is_esc                               object\n",
       "is_adjustable_steering               object\n",
       "is_tpms                              object\n",
       "is_parking_sensors                   object\n",
       "is_parking_camera                    object\n",
       "rear_brakes_type                     object\n",
       "displacement                          int64\n",
       "cylinder                              int64\n",
       "transmission_type                    object\n",
       "gear_box                              int64\n",
       "steering_type                        object\n",
       "turning_radius                      float64\n",
       "length                                int64\n",
       "width                                 int64\n",
       "height                                int64\n",
       "gross_weight                          int64\n",
       "is_front_fog_lights                  object\n",
       "is_rear_window_wiper                 object\n",
       "is_rear_window_washer                object\n",
       "is_rear_window_defogger              object\n",
       "is_brake_assist                      object\n",
       "is_power_door_locks                  object\n",
       "is_central_locking                   object\n",
       "is_power_steering                    object\n",
       "is_driver_seat_height_adjustable     object\n",
       "is_day_night_rear_view_mirror        object\n",
       "is_ecw                               object\n",
       "is_speed_alert                       object\n",
       "ncap_rating                           int64\n",
       "is_claim                              int64\n",
       "dtype: object"
      ]
     },
     "execution_count": 76,
     "metadata": {},
     "output_type": "execute_result"
    }
   ],
   "source": [
    "data.dtypes"
   ]
  },
  {
   "cell_type": "code",
   "execution_count": 77,
   "id": "3b992c06",
   "metadata": {},
   "outputs": [
    {
     "data": {
      "text/html": [
       "<div>\n",
       "<style scoped>\n",
       "    .dataframe tbody tr th:only-of-type {\n",
       "        vertical-align: middle;\n",
       "    }\n",
       "\n",
       "    .dataframe tbody tr th {\n",
       "        vertical-align: top;\n",
       "    }\n",
       "\n",
       "    .dataframe thead th {\n",
       "        text-align: right;\n",
       "    }\n",
       "</style>\n",
       "<table border=\"1\" class=\"dataframe\">\n",
       "  <thead>\n",
       "    <tr style=\"text-align: right;\">\n",
       "      <th></th>\n",
       "      <th>policy_tenure</th>\n",
       "      <th>age_of_car</th>\n",
       "      <th>age_of_policyholder</th>\n",
       "      <th>population_density</th>\n",
       "      <th>make</th>\n",
       "      <th>airbags</th>\n",
       "      <th>displacement</th>\n",
       "      <th>cylinder</th>\n",
       "      <th>gear_box</th>\n",
       "      <th>turning_radius</th>\n",
       "      <th>length</th>\n",
       "      <th>width</th>\n",
       "      <th>height</th>\n",
       "      <th>gross_weight</th>\n",
       "      <th>ncap_rating</th>\n",
       "      <th>is_claim</th>\n",
       "    </tr>\n",
       "  </thead>\n",
       "  <tbody>\n",
       "    <tr>\n",
       "      <th>count</th>\n",
       "      <td>58592.000000</td>\n",
       "      <td>58592.000000</td>\n",
       "      <td>58592.000000</td>\n",
       "      <td>58592.000000</td>\n",
       "      <td>58592.000000</td>\n",
       "      <td>58592.000000</td>\n",
       "      <td>58592.000000</td>\n",
       "      <td>58592.000000</td>\n",
       "      <td>58592.000000</td>\n",
       "      <td>58592.000000</td>\n",
       "      <td>58592.000000</td>\n",
       "      <td>58592.000000</td>\n",
       "      <td>58592.00000</td>\n",
       "      <td>58592.000000</td>\n",
       "      <td>58592.000000</td>\n",
       "      <td>58592.000000</td>\n",
       "    </tr>\n",
       "    <tr>\n",
       "      <th>mean</th>\n",
       "      <td>0.611246</td>\n",
       "      <td>0.069424</td>\n",
       "      <td>0.469420</td>\n",
       "      <td>18826.858667</td>\n",
       "      <td>1.763722</td>\n",
       "      <td>3.137066</td>\n",
       "      <td>1162.355851</td>\n",
       "      <td>3.626963</td>\n",
       "      <td>5.245443</td>\n",
       "      <td>4.852893</td>\n",
       "      <td>3850.476891</td>\n",
       "      <td>1672.233667</td>\n",
       "      <td>1553.33537</td>\n",
       "      <td>1385.276813</td>\n",
       "      <td>1.759950</td>\n",
       "      <td>0.063968</td>\n",
       "    </tr>\n",
       "    <tr>\n",
       "      <th>std</th>\n",
       "      <td>0.414156</td>\n",
       "      <td>0.056721</td>\n",
       "      <td>0.122886</td>\n",
       "      <td>17660.174792</td>\n",
       "      <td>1.136988</td>\n",
       "      <td>1.832641</td>\n",
       "      <td>266.304786</td>\n",
       "      <td>0.483616</td>\n",
       "      <td>0.430353</td>\n",
       "      <td>0.228061</td>\n",
       "      <td>311.457119</td>\n",
       "      <td>112.089135</td>\n",
       "      <td>79.62227</td>\n",
       "      <td>212.423085</td>\n",
       "      <td>1.389576</td>\n",
       "      <td>0.244698</td>\n",
       "    </tr>\n",
       "    <tr>\n",
       "      <th>min</th>\n",
       "      <td>0.002735</td>\n",
       "      <td>0.000000</td>\n",
       "      <td>0.288462</td>\n",
       "      <td>290.000000</td>\n",
       "      <td>1.000000</td>\n",
       "      <td>1.000000</td>\n",
       "      <td>796.000000</td>\n",
       "      <td>3.000000</td>\n",
       "      <td>5.000000</td>\n",
       "      <td>4.500000</td>\n",
       "      <td>3445.000000</td>\n",
       "      <td>1475.000000</td>\n",
       "      <td>1475.00000</td>\n",
       "      <td>1051.000000</td>\n",
       "      <td>0.000000</td>\n",
       "      <td>0.000000</td>\n",
       "    </tr>\n",
       "    <tr>\n",
       "      <th>25%</th>\n",
       "      <td>0.210250</td>\n",
       "      <td>0.020000</td>\n",
       "      <td>0.365385</td>\n",
       "      <td>6112.000000</td>\n",
       "      <td>1.000000</td>\n",
       "      <td>2.000000</td>\n",
       "      <td>796.000000</td>\n",
       "      <td>3.000000</td>\n",
       "      <td>5.000000</td>\n",
       "      <td>4.600000</td>\n",
       "      <td>3445.000000</td>\n",
       "      <td>1515.000000</td>\n",
       "      <td>1475.00000</td>\n",
       "      <td>1185.000000</td>\n",
       "      <td>0.000000</td>\n",
       "      <td>0.000000</td>\n",
       "    </tr>\n",
       "    <tr>\n",
       "      <th>50%</th>\n",
       "      <td>0.573792</td>\n",
       "      <td>0.060000</td>\n",
       "      <td>0.451923</td>\n",
       "      <td>8794.000000</td>\n",
       "      <td>1.000000</td>\n",
       "      <td>2.000000</td>\n",
       "      <td>1197.000000</td>\n",
       "      <td>4.000000</td>\n",
       "      <td>5.000000</td>\n",
       "      <td>4.800000</td>\n",
       "      <td>3845.000000</td>\n",
       "      <td>1735.000000</td>\n",
       "      <td>1530.00000</td>\n",
       "      <td>1335.000000</td>\n",
       "      <td>2.000000</td>\n",
       "      <td>0.000000</td>\n",
       "    </tr>\n",
       "    <tr>\n",
       "      <th>75%</th>\n",
       "      <td>1.039104</td>\n",
       "      <td>0.110000</td>\n",
       "      <td>0.548077</td>\n",
       "      <td>27003.000000</td>\n",
       "      <td>3.000000</td>\n",
       "      <td>6.000000</td>\n",
       "      <td>1493.000000</td>\n",
       "      <td>4.000000</td>\n",
       "      <td>5.000000</td>\n",
       "      <td>5.000000</td>\n",
       "      <td>3995.000000</td>\n",
       "      <td>1755.000000</td>\n",
       "      <td>1635.00000</td>\n",
       "      <td>1510.000000</td>\n",
       "      <td>3.000000</td>\n",
       "      <td>0.000000</td>\n",
       "    </tr>\n",
       "    <tr>\n",
       "      <th>max</th>\n",
       "      <td>1.396641</td>\n",
       "      <td>1.000000</td>\n",
       "      <td>1.000000</td>\n",
       "      <td>73430.000000</td>\n",
       "      <td>5.000000</td>\n",
       "      <td>6.000000</td>\n",
       "      <td>1498.000000</td>\n",
       "      <td>4.000000</td>\n",
       "      <td>6.000000</td>\n",
       "      <td>5.200000</td>\n",
       "      <td>4300.000000</td>\n",
       "      <td>1811.000000</td>\n",
       "      <td>1825.00000</td>\n",
       "      <td>1720.000000</td>\n",
       "      <td>5.000000</td>\n",
       "      <td>1.000000</td>\n",
       "    </tr>\n",
       "  </tbody>\n",
       "</table>\n",
       "</div>"
      ],
      "text/plain": [
       "       policy_tenure    age_of_car  age_of_policyholder  population_density  \\\n",
       "count   58592.000000  58592.000000         58592.000000        58592.000000   \n",
       "mean        0.611246      0.069424             0.469420        18826.858667   \n",
       "std         0.414156      0.056721             0.122886        17660.174792   \n",
       "min         0.002735      0.000000             0.288462          290.000000   \n",
       "25%         0.210250      0.020000             0.365385         6112.000000   \n",
       "50%         0.573792      0.060000             0.451923         8794.000000   \n",
       "75%         1.039104      0.110000             0.548077        27003.000000   \n",
       "max         1.396641      1.000000             1.000000        73430.000000   \n",
       "\n",
       "               make       airbags  displacement      cylinder      gear_box  \\\n",
       "count  58592.000000  58592.000000  58592.000000  58592.000000  58592.000000   \n",
       "mean       1.763722      3.137066   1162.355851      3.626963      5.245443   \n",
       "std        1.136988      1.832641    266.304786      0.483616      0.430353   \n",
       "min        1.000000      1.000000    796.000000      3.000000      5.000000   \n",
       "25%        1.000000      2.000000    796.000000      3.000000      5.000000   \n",
       "50%        1.000000      2.000000   1197.000000      4.000000      5.000000   \n",
       "75%        3.000000      6.000000   1493.000000      4.000000      5.000000   \n",
       "max        5.000000      6.000000   1498.000000      4.000000      6.000000   \n",
       "\n",
       "       turning_radius        length         width       height  gross_weight  \\\n",
       "count    58592.000000  58592.000000  58592.000000  58592.00000  58592.000000   \n",
       "mean         4.852893   3850.476891   1672.233667   1553.33537   1385.276813   \n",
       "std          0.228061    311.457119    112.089135     79.62227    212.423085   \n",
       "min          4.500000   3445.000000   1475.000000   1475.00000   1051.000000   \n",
       "25%          4.600000   3445.000000   1515.000000   1475.00000   1185.000000   \n",
       "50%          4.800000   3845.000000   1735.000000   1530.00000   1335.000000   \n",
       "75%          5.000000   3995.000000   1755.000000   1635.00000   1510.000000   \n",
       "max          5.200000   4300.000000   1811.000000   1825.00000   1720.000000   \n",
       "\n",
       "        ncap_rating      is_claim  \n",
       "count  58592.000000  58592.000000  \n",
       "mean       1.759950      0.063968  \n",
       "std        1.389576      0.244698  \n",
       "min        0.000000      0.000000  \n",
       "25%        0.000000      0.000000  \n",
       "50%        2.000000      0.000000  \n",
       "75%        3.000000      0.000000  \n",
       "max        5.000000      1.000000  "
      ]
     },
     "execution_count": 77,
     "metadata": {},
     "output_type": "execute_result"
    }
   ],
   "source": [
    "data.describe()"
   ]
  },
  {
   "cell_type": "code",
   "execution_count": 78,
   "id": "7f4f1337",
   "metadata": {},
   "outputs": [
    {
     "data": {
      "text/html": [
       "<div>\n",
       "<style scoped>\n",
       "    .dataframe tbody tr th:only-of-type {\n",
       "        vertical-align: middle;\n",
       "    }\n",
       "\n",
       "    .dataframe tbody tr th {\n",
       "        vertical-align: top;\n",
       "    }\n",
       "\n",
       "    .dataframe thead th {\n",
       "        text-align: right;\n",
       "    }\n",
       "</style>\n",
       "<table border=\"1\" class=\"dataframe\">\n",
       "  <thead>\n",
       "    <tr style=\"text-align: right;\">\n",
       "      <th></th>\n",
       "      <th>policy_tenure</th>\n",
       "      <th>age_of_car</th>\n",
       "      <th>age_of_policyholder</th>\n",
       "      <th>population_density</th>\n",
       "      <th>make</th>\n",
       "      <th>airbags</th>\n",
       "      <th>displacement</th>\n",
       "      <th>cylinder</th>\n",
       "      <th>gear_box</th>\n",
       "      <th>turning_radius</th>\n",
       "      <th>length</th>\n",
       "      <th>width</th>\n",
       "      <th>height</th>\n",
       "      <th>gross_weight</th>\n",
       "      <th>ncap_rating</th>\n",
       "      <th>is_claim</th>\n",
       "    </tr>\n",
       "  </thead>\n",
       "  <tbody>\n",
       "    <tr>\n",
       "      <th>policy_tenure</th>\n",
       "      <td>1.000000</td>\n",
       "      <td>0.166312</td>\n",
       "      <td>0.143676</td>\n",
       "      <td>-0.100307</td>\n",
       "      <td>0.086101</td>\n",
       "      <td>0.103981</td>\n",
       "      <td>0.194361</td>\n",
       "      <td>0.191185</td>\n",
       "      <td>0.095305</td>\n",
       "      <td>0.166426</td>\n",
       "      <td>0.190869</td>\n",
       "      <td>0.213228</td>\n",
       "      <td>0.119055</td>\n",
       "      <td>0.141027</td>\n",
       "      <td>0.173280</td>\n",
       "      <td>0.078747</td>\n",
       "    </tr>\n",
       "    <tr>\n",
       "      <th>age_of_car</th>\n",
       "      <td>0.166312</td>\n",
       "      <td>1.000000</td>\n",
       "      <td>-0.035427</td>\n",
       "      <td>-0.062255</td>\n",
       "      <td>0.188122</td>\n",
       "      <td>0.209073</td>\n",
       "      <td>0.393208</td>\n",
       "      <td>0.379522</td>\n",
       "      <td>0.201579</td>\n",
       "      <td>0.332716</td>\n",
       "      <td>0.383177</td>\n",
       "      <td>0.414104</td>\n",
       "      <td>0.259156</td>\n",
       "      <td>0.302127</td>\n",
       "      <td>0.348853</td>\n",
       "      <td>-0.028172</td>\n",
       "    </tr>\n",
       "    <tr>\n",
       "      <th>age_of_policyholder</th>\n",
       "      <td>0.143676</td>\n",
       "      <td>-0.035427</td>\n",
       "      <td>1.000000</td>\n",
       "      <td>0.009669</td>\n",
       "      <td>-0.031989</td>\n",
       "      <td>-0.008041</td>\n",
       "      <td>-0.023764</td>\n",
       "      <td>0.004183</td>\n",
       "      <td>-0.003115</td>\n",
       "      <td>-0.016764</td>\n",
       "      <td>-0.020138</td>\n",
       "      <td>-0.006135</td>\n",
       "      <td>-0.053930</td>\n",
       "      <td>-0.007758</td>\n",
       "      <td>-0.031628</td>\n",
       "      <td>0.022435</td>\n",
       "    </tr>\n",
       "    <tr>\n",
       "      <th>population_density</th>\n",
       "      <td>-0.100307</td>\n",
       "      <td>-0.062255</td>\n",
       "      <td>0.009669</td>\n",
       "      <td>1.000000</td>\n",
       "      <td>-0.035125</td>\n",
       "      <td>-0.060359</td>\n",
       "      <td>-0.090983</td>\n",
       "      <td>-0.091591</td>\n",
       "      <td>-0.056640</td>\n",
       "      <td>-0.077501</td>\n",
       "      <td>-0.091968</td>\n",
       "      <td>-0.098156</td>\n",
       "      <td>-0.065583</td>\n",
       "      <td>-0.077816</td>\n",
       "      <td>-0.071150</td>\n",
       "      <td>-0.017808</td>\n",
       "    </tr>\n",
       "    <tr>\n",
       "      <th>make</th>\n",
       "      <td>0.086101</td>\n",
       "      <td>0.188122</td>\n",
       "      <td>-0.031989</td>\n",
       "      <td>-0.035125</td>\n",
       "      <td>1.000000</td>\n",
       "      <td>0.501800</td>\n",
       "      <td>0.753344</td>\n",
       "      <td>0.410672</td>\n",
       "      <td>0.632807</td>\n",
       "      <td>0.753861</td>\n",
       "      <td>0.692365</td>\n",
       "      <td>0.511695</td>\n",
       "      <td>0.303274</td>\n",
       "      <td>0.481408</td>\n",
       "      <td>0.792254</td>\n",
       "      <td>-0.000456</td>\n",
       "    </tr>\n",
       "    <tr>\n",
       "      <th>airbags</th>\n",
       "      <td>0.103981</td>\n",
       "      <td>0.209073</td>\n",
       "      <td>-0.008041</td>\n",
       "      <td>-0.060359</td>\n",
       "      <td>0.501800</td>\n",
       "      <td>1.000000</td>\n",
       "      <td>0.661190</td>\n",
       "      <td>0.478594</td>\n",
       "      <td>0.859556</td>\n",
       "      <td>0.810820</td>\n",
       "      <td>0.809094</td>\n",
       "      <td>0.639562</td>\n",
       "      <td>0.423816</td>\n",
       "      <td>0.828988</td>\n",
       "      <td>0.341557</td>\n",
       "      <td>0.002789</td>\n",
       "    </tr>\n",
       "    <tr>\n",
       "      <th>displacement</th>\n",
       "      <td>0.194361</td>\n",
       "      <td>0.393208</td>\n",
       "      <td>-0.023764</td>\n",
       "      <td>-0.090983</td>\n",
       "      <td>0.753344</td>\n",
       "      <td>0.661190</td>\n",
       "      <td>1.000000</td>\n",
       "      <td>0.866231</td>\n",
       "      <td>0.692240</td>\n",
       "      <td>0.875407</td>\n",
       "      <td>0.961655</td>\n",
       "      <td>0.899302</td>\n",
       "      <td>0.554591</td>\n",
       "      <td>0.776210</td>\n",
       "      <td>0.847065</td>\n",
       "      <td>0.007678</td>\n",
       "    </tr>\n",
       "    <tr>\n",
       "      <th>cylinder</th>\n",
       "      <td>0.191185</td>\n",
       "      <td>0.379522</td>\n",
       "      <td>0.004183</td>\n",
       "      <td>-0.091591</td>\n",
       "      <td>0.410672</td>\n",
       "      <td>0.478594</td>\n",
       "      <td>0.866231</td>\n",
       "      <td>1.000000</td>\n",
       "      <td>0.410163</td>\n",
       "      <td>0.615806</td>\n",
       "      <td>0.805476</td>\n",
       "      <td>0.862430</td>\n",
       "      <td>0.352118</td>\n",
       "      <td>0.602978</td>\n",
       "      <td>0.598364</td>\n",
       "      <td>0.013434</td>\n",
       "    </tr>\n",
       "    <tr>\n",
       "      <th>gear_box</th>\n",
       "      <td>0.095305</td>\n",
       "      <td>0.201579</td>\n",
       "      <td>-0.003115</td>\n",
       "      <td>-0.056640</td>\n",
       "      <td>0.632807</td>\n",
       "      <td>0.859556</td>\n",
       "      <td>0.692240</td>\n",
       "      <td>0.410163</td>\n",
       "      <td>1.000000</td>\n",
       "      <td>0.861740</td>\n",
       "      <td>0.808975</td>\n",
       "      <td>0.601923</td>\n",
       "      <td>0.579725</td>\n",
       "      <td>0.894639</td>\n",
       "      <td>0.529688</td>\n",
       "      <td>-0.000635</td>\n",
       "    </tr>\n",
       "    <tr>\n",
       "      <th>turning_radius</th>\n",
       "      <td>0.166426</td>\n",
       "      <td>0.332716</td>\n",
       "      <td>-0.016764</td>\n",
       "      <td>-0.077501</td>\n",
       "      <td>0.753861</td>\n",
       "      <td>0.810820</td>\n",
       "      <td>0.875407</td>\n",
       "      <td>0.615806</td>\n",
       "      <td>0.861740</td>\n",
       "      <td>1.000000</td>\n",
       "      <td>0.944899</td>\n",
       "      <td>0.825603</td>\n",
       "      <td>0.460436</td>\n",
       "      <td>0.823097</td>\n",
       "      <td>0.779302</td>\n",
       "      <td>0.002724</td>\n",
       "    </tr>\n",
       "    <tr>\n",
       "      <th>length</th>\n",
       "      <td>0.190869</td>\n",
       "      <td>0.383177</td>\n",
       "      <td>-0.020138</td>\n",
       "      <td>-0.091968</td>\n",
       "      <td>0.692365</td>\n",
       "      <td>0.809094</td>\n",
       "      <td>0.961655</td>\n",
       "      <td>0.805476</td>\n",
       "      <td>0.808975</td>\n",
       "      <td>0.944899</td>\n",
       "      <td>1.000000</td>\n",
       "      <td>0.915918</td>\n",
       "      <td>0.553579</td>\n",
       "      <td>0.861723</td>\n",
       "      <td>0.767519</td>\n",
       "      <td>0.006495</td>\n",
       "    </tr>\n",
       "    <tr>\n",
       "      <th>width</th>\n",
       "      <td>0.213228</td>\n",
       "      <td>0.414104</td>\n",
       "      <td>-0.006135</td>\n",
       "      <td>-0.098156</td>\n",
       "      <td>0.511695</td>\n",
       "      <td>0.639562</td>\n",
       "      <td>0.899302</td>\n",
       "      <td>0.862430</td>\n",
       "      <td>0.601923</td>\n",
       "      <td>0.825603</td>\n",
       "      <td>0.915918</td>\n",
       "      <td>1.000000</td>\n",
       "      <td>0.389317</td>\n",
       "      <td>0.734284</td>\n",
       "      <td>0.771944</td>\n",
       "      <td>0.009947</td>\n",
       "    </tr>\n",
       "    <tr>\n",
       "      <th>height</th>\n",
       "      <td>0.119055</td>\n",
       "      <td>0.259156</td>\n",
       "      <td>-0.053930</td>\n",
       "      <td>-0.065583</td>\n",
       "      <td>0.303274</td>\n",
       "      <td>0.423816</td>\n",
       "      <td>0.554591</td>\n",
       "      <td>0.352118</td>\n",
       "      <td>0.579725</td>\n",
       "      <td>0.460436</td>\n",
       "      <td>0.553579</td>\n",
       "      <td>0.389317</td>\n",
       "      <td>1.000000</td>\n",
       "      <td>0.728377</td>\n",
       "      <td>0.437182</td>\n",
       "      <td>-0.002024</td>\n",
       "    </tr>\n",
       "    <tr>\n",
       "      <th>gross_weight</th>\n",
       "      <td>0.141027</td>\n",
       "      <td>0.302127</td>\n",
       "      <td>-0.007758</td>\n",
       "      <td>-0.077816</td>\n",
       "      <td>0.481408</td>\n",
       "      <td>0.828988</td>\n",
       "      <td>0.776210</td>\n",
       "      <td>0.602978</td>\n",
       "      <td>0.894639</td>\n",
       "      <td>0.823097</td>\n",
       "      <td>0.861723</td>\n",
       "      <td>0.734284</td>\n",
       "      <td>0.728377</td>\n",
       "      <td>1.000000</td>\n",
       "      <td>0.556270</td>\n",
       "      <td>0.003894</td>\n",
       "    </tr>\n",
       "    <tr>\n",
       "      <th>ncap_rating</th>\n",
       "      <td>0.173280</td>\n",
       "      <td>0.348853</td>\n",
       "      <td>-0.031628</td>\n",
       "      <td>-0.071150</td>\n",
       "      <td>0.792254</td>\n",
       "      <td>0.341557</td>\n",
       "      <td>0.847065</td>\n",
       "      <td>0.598364</td>\n",
       "      <td>0.529688</td>\n",
       "      <td>0.779302</td>\n",
       "      <td>0.767519</td>\n",
       "      <td>0.771944</td>\n",
       "      <td>0.437182</td>\n",
       "      <td>0.556270</td>\n",
       "      <td>1.000000</td>\n",
       "      <td>0.003800</td>\n",
       "    </tr>\n",
       "    <tr>\n",
       "      <th>is_claim</th>\n",
       "      <td>0.078747</td>\n",
       "      <td>-0.028172</td>\n",
       "      <td>0.022435</td>\n",
       "      <td>-0.017808</td>\n",
       "      <td>-0.000456</td>\n",
       "      <td>0.002789</td>\n",
       "      <td>0.007678</td>\n",
       "      <td>0.013434</td>\n",
       "      <td>-0.000635</td>\n",
       "      <td>0.002724</td>\n",
       "      <td>0.006495</td>\n",
       "      <td>0.009947</td>\n",
       "      <td>-0.002024</td>\n",
       "      <td>0.003894</td>\n",
       "      <td>0.003800</td>\n",
       "      <td>1.000000</td>\n",
       "    </tr>\n",
       "  </tbody>\n",
       "</table>\n",
       "</div>"
      ],
      "text/plain": [
       "                     policy_tenure  age_of_car  age_of_policyholder  \\\n",
       "policy_tenure             1.000000    0.166312             0.143676   \n",
       "age_of_car                0.166312    1.000000            -0.035427   \n",
       "age_of_policyholder       0.143676   -0.035427             1.000000   \n",
       "population_density       -0.100307   -0.062255             0.009669   \n",
       "make                      0.086101    0.188122            -0.031989   \n",
       "airbags                   0.103981    0.209073            -0.008041   \n",
       "displacement              0.194361    0.393208            -0.023764   \n",
       "cylinder                  0.191185    0.379522             0.004183   \n",
       "gear_box                  0.095305    0.201579            -0.003115   \n",
       "turning_radius            0.166426    0.332716            -0.016764   \n",
       "length                    0.190869    0.383177            -0.020138   \n",
       "width                     0.213228    0.414104            -0.006135   \n",
       "height                    0.119055    0.259156            -0.053930   \n",
       "gross_weight              0.141027    0.302127            -0.007758   \n",
       "ncap_rating               0.173280    0.348853            -0.031628   \n",
       "is_claim                  0.078747   -0.028172             0.022435   \n",
       "\n",
       "                     population_density      make   airbags  displacement  \\\n",
       "policy_tenure                 -0.100307  0.086101  0.103981      0.194361   \n",
       "age_of_car                    -0.062255  0.188122  0.209073      0.393208   \n",
       "age_of_policyholder            0.009669 -0.031989 -0.008041     -0.023764   \n",
       "population_density             1.000000 -0.035125 -0.060359     -0.090983   \n",
       "make                          -0.035125  1.000000  0.501800      0.753344   \n",
       "airbags                       -0.060359  0.501800  1.000000      0.661190   \n",
       "displacement                  -0.090983  0.753344  0.661190      1.000000   \n",
       "cylinder                      -0.091591  0.410672  0.478594      0.866231   \n",
       "gear_box                      -0.056640  0.632807  0.859556      0.692240   \n",
       "turning_radius                -0.077501  0.753861  0.810820      0.875407   \n",
       "length                        -0.091968  0.692365  0.809094      0.961655   \n",
       "width                         -0.098156  0.511695  0.639562      0.899302   \n",
       "height                        -0.065583  0.303274  0.423816      0.554591   \n",
       "gross_weight                  -0.077816  0.481408  0.828988      0.776210   \n",
       "ncap_rating                   -0.071150  0.792254  0.341557      0.847065   \n",
       "is_claim                      -0.017808 -0.000456  0.002789      0.007678   \n",
       "\n",
       "                     cylinder  gear_box  turning_radius    length     width  \\\n",
       "policy_tenure        0.191185  0.095305        0.166426  0.190869  0.213228   \n",
       "age_of_car           0.379522  0.201579        0.332716  0.383177  0.414104   \n",
       "age_of_policyholder  0.004183 -0.003115       -0.016764 -0.020138 -0.006135   \n",
       "population_density  -0.091591 -0.056640       -0.077501 -0.091968 -0.098156   \n",
       "make                 0.410672  0.632807        0.753861  0.692365  0.511695   \n",
       "airbags              0.478594  0.859556        0.810820  0.809094  0.639562   \n",
       "displacement         0.866231  0.692240        0.875407  0.961655  0.899302   \n",
       "cylinder             1.000000  0.410163        0.615806  0.805476  0.862430   \n",
       "gear_box             0.410163  1.000000        0.861740  0.808975  0.601923   \n",
       "turning_radius       0.615806  0.861740        1.000000  0.944899  0.825603   \n",
       "length               0.805476  0.808975        0.944899  1.000000  0.915918   \n",
       "width                0.862430  0.601923        0.825603  0.915918  1.000000   \n",
       "height               0.352118  0.579725        0.460436  0.553579  0.389317   \n",
       "gross_weight         0.602978  0.894639        0.823097  0.861723  0.734284   \n",
       "ncap_rating          0.598364  0.529688        0.779302  0.767519  0.771944   \n",
       "is_claim             0.013434 -0.000635        0.002724  0.006495  0.009947   \n",
       "\n",
       "                       height  gross_weight  ncap_rating  is_claim  \n",
       "policy_tenure        0.119055      0.141027     0.173280  0.078747  \n",
       "age_of_car           0.259156      0.302127     0.348853 -0.028172  \n",
       "age_of_policyholder -0.053930     -0.007758    -0.031628  0.022435  \n",
       "population_density  -0.065583     -0.077816    -0.071150 -0.017808  \n",
       "make                 0.303274      0.481408     0.792254 -0.000456  \n",
       "airbags              0.423816      0.828988     0.341557  0.002789  \n",
       "displacement         0.554591      0.776210     0.847065  0.007678  \n",
       "cylinder             0.352118      0.602978     0.598364  0.013434  \n",
       "gear_box             0.579725      0.894639     0.529688 -0.000635  \n",
       "turning_radius       0.460436      0.823097     0.779302  0.002724  \n",
       "length               0.553579      0.861723     0.767519  0.006495  \n",
       "width                0.389317      0.734284     0.771944  0.009947  \n",
       "height               1.000000      0.728377     0.437182 -0.002024  \n",
       "gross_weight         0.728377      1.000000     0.556270  0.003894  \n",
       "ncap_rating          0.437182      0.556270     1.000000  0.003800  \n",
       "is_claim            -0.002024      0.003894     0.003800  1.000000  "
      ]
     },
     "execution_count": 78,
     "metadata": {},
     "output_type": "execute_result"
    }
   ],
   "source": [
    "data.corr()"
   ]
  },
  {
   "cell_type": "code",
   "execution_count": 79,
   "id": "d58335d1",
   "metadata": {},
   "outputs": [
    {
     "data": {
      "text/plain": [
       "Index(['policy_id', 'policy_tenure', 'age_of_car', 'age_of_policyholder',\n",
       "       'area_cluster', 'population_density', 'make', 'segment', 'model',\n",
       "       'fuel_type', 'max_torque', 'max_power', 'engine_type', 'airbags',\n",
       "       'is_esc', 'is_adjustable_steering', 'is_tpms', 'is_parking_sensors',\n",
       "       'is_parking_camera', 'rear_brakes_type', 'displacement', 'cylinder',\n",
       "       'transmission_type', 'gear_box', 'steering_type', 'turning_radius',\n",
       "       'length', 'width', 'height', 'gross_weight', 'is_front_fog_lights',\n",
       "       'is_rear_window_wiper', 'is_rear_window_washer',\n",
       "       'is_rear_window_defogger', 'is_brake_assist', 'is_power_door_locks',\n",
       "       'is_central_locking', 'is_power_steering',\n",
       "       'is_driver_seat_height_adjustable', 'is_day_night_rear_view_mirror',\n",
       "       'is_ecw', 'is_speed_alert', 'ncap_rating', 'is_claim'],\n",
       "      dtype='object')"
      ]
     },
     "execution_count": 79,
     "metadata": {},
     "output_type": "execute_result"
    }
   ],
   "source": [
    "data.columns"
   ]
  },
  {
   "cell_type": "code",
   "execution_count": 81,
   "id": "421ddb40",
   "metadata": {},
   "outputs": [
    {
     "data": {
      "text/plain": [
       "<AxesSubplot:>"
      ]
     },
     "execution_count": 81,
     "metadata": {},
     "output_type": "execute_result"
    },
    {
     "data": {
      "image/png": "[encoded data removed]",
      "text/plain": [
       "<Figure size 720x432 with 2 Axes>"
      ]
     },
     "metadata": {
      "needs_background": "light"
     },
     "output_type": "display_data"
    }
   ],
   "source": [
    "plt.figure(figsize=(10,6))\n",
    "sns.heatmap(data.corr(),annot=True,linewidths=2)"
   ]
  },
  {
   "cell_type": "code",
   "execution_count": 82,
   "id": "49f75730",
   "metadata": {},
   "outputs": [
    {
     "data": {
      "text/plain": [
       "policy_id                           0\n",
       "policy_tenure                       0\n",
       "age_of_car                          0\n",
       "age_of_policyholder                 0\n",
       "area_cluster                        0\n",
       "population_density                  0\n",
       "make                                0\n",
       "segment                             0\n",
       "model                               0\n",
       "fuel_type                           0\n",
       "max_torque                          0\n",
       "max_power                           0\n",
       "engine_type                         0\n",
       "airbags                             0\n",
       "is_esc                              0\n",
       "is_adjustable_steering              0\n",
       "is_tpms                             0\n",
       "is_parking_sensors                  0\n",
       "is_parking_camera                   0\n",
       "rear_brakes_type                    0\n",
       "displacement                        0\n",
       "cylinder                            0\n",
       "transmission_type                   0\n",
       "gear_box                            0\n",
       "steering_type                       0\n",
       "turning_radius                      0\n",
       "length                              0\n",
       "width                               0\n",
       "height                              0\n",
       "gross_weight                        0\n",
       "is_front_fog_lights                 0\n",
       "is_rear_window_wiper                0\n",
       "is_rear_window_washer               0\n",
       "is_rear_window_defogger             0\n",
       "is_brake_assist                     0\n",
       "is_power_door_locks                 0\n",
       "is_central_locking                  0\n",
       "is_power_steering                   0\n",
       "is_driver_seat_height_adjustable    0\n",
       "is_day_night_rear_view_mirror       0\n",
       "is_ecw                              0\n",
       "is_speed_alert                      0\n",
       "ncap_rating                         0\n",
       "is_claim                            0\n",
       "dtype: int64"
      ]
     },
     "execution_count": 82,
     "metadata": {},
     "output_type": "execute_result"
    }
   ],
   "source": [
    "data.isnull().sum()"
   ]
  },
  {
   "cell_type": "code",
   "execution_count": 83,
   "id": "4895a965",
   "metadata": {},
   "outputs": [
    {
     "data": {
      "text/plain": [
       "0"
      ]
     },
     "execution_count": 83,
     "metadata": {},
     "output_type": "execute_result"
    }
   ],
   "source": [
    "data.duplicated().sum()"
   ]
  },
  {
   "cell_type": "code",
   "execution_count": 84,
   "id": "ca4b4a28",
   "metadata": {},
   "outputs": [
    {
     "data": {
      "text/plain": [
       "policy_tenure              AxesSubplot(0.125,0.71587;0.168478x0.16413)\n",
       "age_of_car              AxesSubplot(0.327174,0.71587;0.168478x0.16413)\n",
       "age_of_policyholder     AxesSubplot(0.529348,0.71587;0.168478x0.16413)\n",
       "population_density      AxesSubplot(0.731522,0.71587;0.168478x0.16413)\n",
       "make                      AxesSubplot(0.125,0.518913;0.168478x0.16413)\n",
       "airbags                AxesSubplot(0.327174,0.518913;0.168478x0.16413)\n",
       "displacement           AxesSubplot(0.529348,0.518913;0.168478x0.16413)\n",
       "cylinder               AxesSubplot(0.731522,0.518913;0.168478x0.16413)\n",
       "gear_box                  AxesSubplot(0.125,0.321957;0.168478x0.16413)\n",
       "turning_radius         AxesSubplot(0.327174,0.321957;0.168478x0.16413)\n",
       "length                 AxesSubplot(0.529348,0.321957;0.168478x0.16413)\n",
       "width                  AxesSubplot(0.731522,0.321957;0.168478x0.16413)\n",
       "height                       AxesSubplot(0.125,0.125;0.168478x0.16413)\n",
       "gross_weight              AxesSubplot(0.327174,0.125;0.168478x0.16413)\n",
       "ncap_rating               AxesSubplot(0.529348,0.125;0.168478x0.16413)\n",
       "is_claim                  AxesSubplot(0.731522,0.125;0.168478x0.16413)\n",
       "dtype: object"
      ]
     },
     "execution_count": 84,
     "metadata": {},
     "output_type": "execute_result"
    },
    {
     "data": {
      "image/png": "[encoded data removed]",
      "text/plain": [
       "<Figure size 1440x1080 with 16 Axes>"
      ]
     },
     "metadata": {
      "needs_background": "light"
     },
     "output_type": "display_data"
    }
   ],
   "source": [
    "data.plot(kind=\"box\",subplots=True,layout=(4,4),sharex=False,sharey=True,figsize=(20,15))"
   ]
  },
  {
   "cell_type": "code",
   "execution_count": 85,
   "id": "9a1afc0b",
   "metadata": {},
   "outputs": [
    {
     "data": {
      "text/plain": [
       "Petrol    20532\n",
       "CNG       20330\n",
       "Diesel    17730\n",
       "Name: fuel_type, dtype: int64"
      ]
     },
     "execution_count": 85,
     "metadata": {},
     "output_type": "execute_result"
    }
   ],
   "source": [
    "data[\"fuel_type\"].value_counts()"
   ]
  },
  {
   "cell_type": "code",
   "execution_count": 86,
   "id": "a8fb0190",
   "metadata": {},
   "outputs": [
    {
     "data": {
      "text/plain": [
       "<matplotlib.legend.Legend at 0x259a88c7160>"
      ]
     },
     "execution_count": 86,
     "metadata": {},
     "output_type": "execute_result"
    },
    {
     "data": {
      "image/png": "[encoded data removed]",
      "text/plain": [
       "<Figure size 720x864 with 1 Axes>"
      ]
     },
     "metadata": {},
     "output_type": "display_data"
    }
   ],
   "source": [
    "plt.figure(figsize=(10,12))\n",
    "p=data[\"fuel_type\"]==\"Petrol\"\n",
    "p=p.sum()\n",
    "c=data[\"fuel_type\"]==\"CNG\"\n",
    "c=c.sum()\n",
    "d=data[\"fuel_type\"]==\"Diesel\"\n",
    "d=d.sum()\n",
    "y=np.array([p,c,d])\n",
    "label=[\"petrol\",\"CNG\",\"Diesel\"]\n",
    "plt.pie(y,labels=label)\n",
    "plt.legend(title=\"Title\")\n"
   ]
  },
  {
   "cell_type": "code",
   "execution_count": 87,
   "id": "d9de9bbe",
   "metadata": {},
   "outputs": [
    {
     "data": {
      "text/plain": [
       "Manual       38181\n",
       "Automatic    20411\n",
       "Name: transmission_type, dtype: int64"
      ]
     },
     "execution_count": 87,
     "metadata": {},
     "output_type": "execute_result"
    }
   ],
   "source": [
    "data[\"transmission_type\"].value_counts()"
   ]
  },
  {
   "cell_type": "code",
   "execution_count": 88,
   "id": "f3cc0d38",
   "metadata": {},
   "outputs": [
    {
     "data": {
      "text/plain": [
       "<matplotlib.legend.Legend at 0x259a3e28580>"
      ]
     },
     "execution_count": 88,
     "metadata": {},
     "output_type": "execute_result"
    },
    {
     "data": {
      "image/png": "[encoded data removed]",
      "text/plain": [
       "<Figure size 720x864 with 1 Axes>"
      ]
     },
     "metadata": {},
     "output_type": "display_data"
    }
   ],
   "source": [
    "plt.figure(figsize=(10,12))\n",
    "m=data[\"transmission_type\"]==\"Manual\"\n",
    "m=m.sum()\n",
    "A=data[\"transmission_type\"]==\"Automatic\"\n",
    "A=A.sum()\n",
    "y=np.array([m,A])\n",
    "label=[\"Manual\",\"Automatic\"]\n",
    "plt.pie(y,labels=label)\n",
    "plt.legend(title=\"Title\")"
   ]
  },
  {
   "cell_type": "code",
   "execution_count": 89,
   "id": "59157369",
   "metadata": {},
   "outputs": [],
   "source": [
    "from sklearn.preprocessing import LabelEncoder\n",
    "lb=LabelEncoder()"
   ]
  },
  {
   "cell_type": "code",
   "execution_count": 90,
   "id": "cf1e1e1d",
   "metadata": {},
   "outputs": [
    {
     "data": {
      "text/plain": [
       "['policy_id',\n",
       " 'area_cluster',\n",
       " 'segment',\n",
       " 'model',\n",
       " 'fuel_type',\n",
       " 'max_torque',\n",
       " 'max_power',\n",
       " 'engine_type',\n",
       " 'is_esc',\n",
       " 'is_adjustable_steering',\n",
       " 'is_tpms',\n",
       " 'is_parking_sensors',\n",
       " 'is_parking_camera',\n",
       " 'rear_brakes_type',\n",
       " 'transmission_type',\n",
       " 'steering_type',\n",
       " 'is_front_fog_lights',\n",
       " 'is_rear_window_wiper',\n",
       " 'is_rear_window_washer',\n",
       " 'is_rear_window_defogger',\n",
       " 'is_brake_assist',\n",
       " 'is_power_door_locks',\n",
       " 'is_central_locking',\n",
       " 'is_power_steering',\n",
       " 'is_driver_seat_height_adjustable',\n",
       " 'is_day_night_rear_view_mirror',\n",
       " 'is_ecw',\n",
       " 'is_speed_alert']"
      ]
     },
     "execution_count": 90,
     "metadata": {},
     "output_type": "execute_result"
    }
   ],
   "source": [
    "lst=[]\n",
    "for i in data.columns:\n",
    "    if data[i].dtype==\"O\":\n",
    "        lst.append(i)\n",
    "        \n",
    "lst"
   ]
  },
  {
   "cell_type": "code",
   "execution_count": 91,
   "id": "c22fa319",
   "metadata": {},
   "outputs": [
    {
     "data": {
      "text/plain": [
       "0        0\n",
       "1        0\n",
       "2        0\n",
       "3        0\n",
       "4        0\n",
       "        ..\n",
       "58587    0\n",
       "58588    0\n",
       "58589    0\n",
       "58590    0\n",
       "58591    0\n",
       "Name: is_claim, Length: 58592, dtype: int64"
      ]
     },
     "execution_count": 91,
     "metadata": {},
     "output_type": "execute_result"
    }
   ],
   "source": [
    "for i in data.columns:\n",
    "    data[i]=lb.fit_transform(data[i])\n",
    "data[i]   "
   ]
  },
  {
   "cell_type": "code",
   "execution_count": 92,
   "id": "6130cd36",
   "metadata": {},
   "outputs": [
    {
     "name": "stdout",
     "output_type": "stream",
     "text": [
      "<class 'pandas.core.frame.DataFrame'>\n",
      "RangeIndex: 58592 entries, 0 to 58591\n",
      "Data columns (total 44 columns):\n",
      " #   Column                            Non-Null Count  Dtype\n",
      "---  ------                            --------------  -----\n",
      " 0   policy_id                         58592 non-null  int32\n",
      " 1   policy_tenure                     58592 non-null  int64\n",
      " 2   age_of_car                        58592 non-null  int64\n",
      " 3   age_of_policyholder               58592 non-null  int64\n",
      " 4   area_cluster                      58592 non-null  int32\n",
      " 5   population_density                58592 non-null  int64\n",
      " 6   make                              58592 non-null  int64\n",
      " 7   segment                           58592 non-null  int32\n",
      " 8   model                             58592 non-null  int32\n",
      " 9   fuel_type                         58592 non-null  int32\n",
      " 10  max_torque                        58592 non-null  int32\n",
      " 11  max_power                         58592 non-null  int32\n",
      " 12  engine_type                       58592 non-null  int32\n",
      " 13  airbags                           58592 non-null  int64\n",
      " 14  is_esc                            58592 non-null  int32\n",
      " 15  is_adjustable_steering            58592 non-null  int32\n",
      " 16  is_tpms                           58592 non-null  int32\n",
      " 17  is_parking_sensors                58592 non-null  int32\n",
      " 18  is_parking_camera                 58592 non-null  int32\n",
      " 19  rear_brakes_type                  58592 non-null  int32\n",
      " 20  displacement                      58592 non-null  int64\n",
      " 21  cylinder                          58592 non-null  int64\n",
      " 22  transmission_type                 58592 non-null  int32\n",
      " 23  gear_box                          58592 non-null  int64\n",
      " 24  steering_type                     58592 non-null  int32\n",
      " 25  turning_radius                    58592 non-null  int64\n",
      " 26  length                            58592 non-null  int64\n",
      " 27  width                             58592 non-null  int64\n",
      " 28  height                            58592 non-null  int64\n",
      " 29  gross_weight                      58592 non-null  int64\n",
      " 30  is_front_fog_lights               58592 non-null  int32\n",
      " 31  is_rear_window_wiper              58592 non-null  int32\n",
      " 32  is_rear_window_washer             58592 non-null  int32\n",
      " 33  is_rear_window_defogger           58592 non-null  int32\n",
      " 34  is_brake_assist                   58592 non-null  int32\n",
      " 35  is_power_door_locks               58592 non-null  int32\n",
      " 36  is_central_locking                58592 non-null  int32\n",
      " 37  is_power_steering                 58592 non-null  int32\n",
      " 38  is_driver_seat_height_adjustable  58592 non-null  int32\n",
      " 39  is_day_night_rear_view_mirror     58592 non-null  int32\n",
      " 40  is_ecw                            58592 non-null  int32\n",
      " 41  is_speed_alert                    58592 non-null  int32\n",
      " 42  ncap_rating                       58592 non-null  int64\n",
      " 43  is_claim                          58592 non-null  int64\n",
      "dtypes: int32(28), int64(16)\n",
      "memory usage: 13.4 MB\n"
     ]
    }
   ],
   "source": [
    "data.info()"
   ]
  },
  {
   "cell_type": "code",
   "execution_count": 3,
   "id": "59247eff",
   "metadata": {},
   "outputs": [],
   "source": [
    "x=data.drop('is_claim',axis=1)\n",
    "y=data['is_claim']"
   ]
  },
  {
   "cell_type": "code",
   "execution_count": 94,
   "id": "7289953d",
   "metadata": {},
   "outputs": [
    {
     "data": {
      "text/plain": [
       "MinMaxScaler()"
      ]
     },
     "execution_count": 94,
     "metadata": {},
     "output_type": "execute_result"
    }
   ],
   "source": [
    "feature_scale = [feature for feature in data.columns if feature!='is_claim']\n",
    "## Importing library \n",
    "##This estimator scales and translates each feature individually such that it is in the given range on the training set, e.g. between zero and one.\n",
    "\n",
    "from sklearn.preprocessing import MinMaxScaler\n",
    "scaler=MinMaxScaler()\n",
    "scaler.fit(x)"
   ]
  },
  {
   "cell_type": "code",
   "execution_count": 95,
   "id": "c980bd9f",
   "metadata": {},
   "outputs": [],
   "source": [
    "data = pd.concat([data['is_claim'].reset_index(drop=True),\n",
    "                    pd.DataFrame(scaler.transform(x), columns=feature_scale)],\n",
    "                    axis=1)"
   ]
  },
  {
   "cell_type": "code",
   "execution_count": 96,
   "id": "d411f1ac",
   "metadata": {},
   "outputs": [
    {
     "data": {
      "text/html": [
       "<div>\n",
       "<style scoped>\n",
       "    .dataframe tbody tr th:only-of-type {\n",
       "        vertical-align: middle;\n",
       "    }\n",
       "\n",
       "    .dataframe tbody tr th {\n",
       "        vertical-align: top;\n",
       "    }\n",
       "\n",
       "    .dataframe thead th {\n",
       "        text-align: right;\n",
       "    }\n",
       "</style>\n",
       "<table border=\"1\" class=\"dataframe\">\n",
       "  <thead>\n",
       "    <tr style=\"text-align: right;\">\n",
       "      <th></th>\n",
       "      <th>is_claim</th>\n",
       "      <th>policy_id</th>\n",
       "      <th>policy_tenure</th>\n",
       "      <th>age_of_car</th>\n",
       "      <th>age_of_policyholder</th>\n",
       "      <th>area_cluster</th>\n",
       "      <th>population_density</th>\n",
       "      <th>make</th>\n",
       "      <th>segment</th>\n",
       "      <th>model</th>\n",
       "      <th>...</th>\n",
       "      <th>is_rear_window_defogger</th>\n",
       "      <th>is_brake_assist</th>\n",
       "      <th>is_power_door_locks</th>\n",
       "      <th>is_central_locking</th>\n",
       "      <th>is_power_steering</th>\n",
       "      <th>is_driver_seat_height_adjustable</th>\n",
       "      <th>is_day_night_rear_view_mirror</th>\n",
       "      <th>is_ecw</th>\n",
       "      <th>is_speed_alert</th>\n",
       "      <th>ncap_rating</th>\n",
       "    </tr>\n",
       "  </thead>\n",
       "  <tbody>\n",
       "    <tr>\n",
       "      <th>0</th>\n",
       "      <td>0</td>\n",
       "      <td>0.000000</td>\n",
       "      <td>0.454702</td>\n",
       "      <td>0.104167</td>\n",
       "      <td>0.500000</td>\n",
       "      <td>0.000000</td>\n",
       "      <td>0.142857</td>\n",
       "      <td>0.00</td>\n",
       "      <td>0.0</td>\n",
       "      <td>0.0</td>\n",
       "      <td>...</td>\n",
       "      <td>0.0</td>\n",
       "      <td>0.0</td>\n",
       "      <td>0.0</td>\n",
       "      <td>0.0</td>\n",
       "      <td>1.0</td>\n",
       "      <td>0.0</td>\n",
       "      <td>0.0</td>\n",
       "      <td>0.0</td>\n",
       "      <td>1.0</td>\n",
       "      <td>0.00</td>\n",
       "    </tr>\n",
       "    <tr>\n",
       "      <th>1</th>\n",
       "      <td>0</td>\n",
       "      <td>0.000017</td>\n",
       "      <td>0.556887</td>\n",
       "      <td>0.041667</td>\n",
       "      <td>0.121622</td>\n",
       "      <td>0.523810</td>\n",
       "      <td>0.714286</td>\n",
       "      <td>0.00</td>\n",
       "      <td>0.0</td>\n",
       "      <td>0.0</td>\n",
       "      <td>...</td>\n",
       "      <td>0.0</td>\n",
       "      <td>0.0</td>\n",
       "      <td>0.0</td>\n",
       "      <td>0.0</td>\n",
       "      <td>1.0</td>\n",
       "      <td>0.0</td>\n",
       "      <td>0.0</td>\n",
       "      <td>0.0</td>\n",
       "      <td>1.0</td>\n",
       "      <td>0.00</td>\n",
       "    </tr>\n",
       "    <tr>\n",
       "      <th>2</th>\n",
       "      <td>0</td>\n",
       "      <td>0.000034</td>\n",
       "      <td>0.631217</td>\n",
       "      <td>0.041667</td>\n",
       "      <td>0.135135</td>\n",
       "      <td>0.714286</td>\n",
       "      <td>0.095238</td>\n",
       "      <td>0.00</td>\n",
       "      <td>0.0</td>\n",
       "      <td>0.0</td>\n",
       "      <td>...</td>\n",
       "      <td>0.0</td>\n",
       "      <td>0.0</td>\n",
       "      <td>0.0</td>\n",
       "      <td>0.0</td>\n",
       "      <td>1.0</td>\n",
       "      <td>0.0</td>\n",
       "      <td>0.0</td>\n",
       "      <td>0.0</td>\n",
       "      <td>1.0</td>\n",
       "      <td>0.00</td>\n",
       "    </tr>\n",
       "    <tr>\n",
       "      <th>3</th>\n",
       "      <td>0</td>\n",
       "      <td>0.000051</td>\n",
       "      <td>0.658389</td>\n",
       "      <td>0.229167</td>\n",
       "      <td>0.202703</td>\n",
       "      <td>0.761905</td>\n",
       "      <td>0.666667</td>\n",
       "      <td>0.00</td>\n",
       "      <td>0.6</td>\n",
       "      <td>0.3</td>\n",
       "      <td>...</td>\n",
       "      <td>1.0</td>\n",
       "      <td>1.0</td>\n",
       "      <td>1.0</td>\n",
       "      <td>1.0</td>\n",
       "      <td>1.0</td>\n",
       "      <td>1.0</td>\n",
       "      <td>1.0</td>\n",
       "      <td>1.0</td>\n",
       "      <td>1.0</td>\n",
       "      <td>0.25</td>\n",
       "    </tr>\n",
       "    <tr>\n",
       "      <th>4</th>\n",
       "      <td>0</td>\n",
       "      <td>0.000068</td>\n",
       "      <td>0.516061</td>\n",
       "      <td>0.229167</td>\n",
       "      <td>0.486486</td>\n",
       "      <td>0.809524</td>\n",
       "      <td>0.809524</td>\n",
       "      <td>0.25</td>\n",
       "      <td>0.0</td>\n",
       "      <td>0.4</td>\n",
       "      <td>...</td>\n",
       "      <td>0.0</td>\n",
       "      <td>0.0</td>\n",
       "      <td>1.0</td>\n",
       "      <td>1.0</td>\n",
       "      <td>1.0</td>\n",
       "      <td>0.0</td>\n",
       "      <td>1.0</td>\n",
       "      <td>1.0</td>\n",
       "      <td>1.0</td>\n",
       "      <td>0.25</td>\n",
       "    </tr>\n",
       "  </tbody>\n",
       "</table>\n",
       "<p>5 rows × 44 columns</p>\n",
       "</div>"
      ],
      "text/plain": [
       "   is_claim  policy_id  policy_tenure  age_of_car  age_of_policyholder  \\\n",
       "0         0   0.000000       0.454702    0.104167             0.500000   \n",
       "1         0   0.000017       0.556887    0.041667             0.121622   \n",
       "2         0   0.000034       0.631217    0.041667             0.135135   \n",
       "3         0   0.000051       0.658389    0.229167             0.202703   \n",
       "4         0   0.000068       0.516061    0.229167             0.486486   \n",
       "\n",
       "   area_cluster  population_density  make  segment  model  ...  \\\n",
       "0      0.000000            0.142857  0.00      0.0    0.0  ...   \n",
       "1      0.523810            0.714286  0.00      0.0    0.0  ...   \n",
       "2      0.714286            0.095238  0.00      0.0    0.0  ...   \n",
       "3      0.761905            0.666667  0.00      0.6    0.3  ...   \n",
       "4      0.809524            0.809524  0.25      0.0    0.4  ...   \n",
       "\n",
       "   is_rear_window_defogger  is_brake_assist  is_power_door_locks  \\\n",
       "0                      0.0              0.0                  0.0   \n",
       "1                      0.0              0.0                  0.0   \n",
       "2                      0.0              0.0                  0.0   \n",
       "3                      1.0              1.0                  1.0   \n",
       "4                      0.0              0.0                  1.0   \n",
       "\n",
       "   is_central_locking  is_power_steering  is_driver_seat_height_adjustable  \\\n",
       "0                 0.0                1.0                               0.0   \n",
       "1                 0.0                1.0                               0.0   \n",
       "2                 0.0                1.0                               0.0   \n",
       "3                 1.0                1.0                               1.0   \n",
       "4                 1.0                1.0                               0.0   \n",
       "\n",
       "   is_day_night_rear_view_mirror  is_ecw  is_speed_alert  ncap_rating  \n",
       "0                            0.0     0.0             1.0         0.00  \n",
       "1                            0.0     0.0             1.0         0.00  \n",
       "2                            0.0     0.0             1.0         0.00  \n",
       "3                            1.0     1.0             1.0         0.25  \n",
       "4                            1.0     1.0             1.0         0.25  \n",
       "\n",
       "[5 rows x 44 columns]"
      ]
     },
     "execution_count": 96,
     "metadata": {},
     "output_type": "execute_result"
    }
   ],
   "source": [
    "data.head()"
   ]
  },
  {
   "cell_type": "code",
   "execution_count": 97,
   "id": "6b43abfe",
   "metadata": {},
   "outputs": [
    {
     "data": {
      "text/plain": [
       "0    54844\n",
       "1     3748\n",
       "Name: is_claim, dtype: int64"
      ]
     },
     "execution_count": 97,
     "metadata": {},
     "output_type": "execute_result"
    }
   ],
   "source": [
    "data.is_claim.value_counts()"
   ]
  },
  {
   "cell_type": "raw",
   "id": "cc407350",
   "metadata": {},
   "source": [
    "from the above output,we conclude that data is imbalanced.so, we have to do either under sampling or over sampling.we are going to do over sampling bcz in under sampling .we will lost our almost data."
   ]
  },
  {
   "cell_type": "markdown",
   "id": "c99a65b2",
   "metadata": {},
   "source": [
    "# Dealing with Unbalanced Dataset"
   ]
  },
  {
   "cell_type": "code",
   "execution_count": 5,
   "id": "d83da4ba",
   "metadata": {},
   "outputs": [],
   "source": [
    "import imblearn"
   ]
  },
  {
   "cell_type": "code",
   "execution_count": 6,
   "id": "0e2222b6",
   "metadata": {},
   "outputs": [],
   "source": [
    "from imblearn.combine import SMOTETomek                  #synthetic minority oversampling technique\n",
    "                                                         #oversampling methods to solve the imbalance problem.\n",
    "                                                         #randomly increasing minority class examples by replicating them."
   ]
  },
  {
   "cell_type": "code",
   "execution_count": 7,
   "id": "21b25a11",
   "metadata": {},
   "outputs": [],
   "source": [
    "smk=SMOTETomek(random_state=12)"
   ]
  },
  {
   "cell_type": "code",
   "execution_count": null,
   "id": "965b8bc3",
   "metadata": {},
   "outputs": [],
   "source": [
    "x_res,y_res=smk.fit_resample(x,y)"
   ]
  },
  {
   "cell_type": "code",
   "execution_count": 102,
   "id": "2c932a1b",
   "metadata": {},
   "outputs": [
    {
     "data": {
      "text/plain": [
       "(98888, 43)"
      ]
     },
     "execution_count": 102,
     "metadata": {},
     "output_type": "execute_result"
    }
   ],
   "source": [
    "x_res.shape"
   ]
  },
  {
   "cell_type": "code",
   "execution_count": 103,
   "id": "ecc8c00f",
   "metadata": {},
   "outputs": [
    {
     "data": {
      "text/plain": [
       "(98888,)"
      ]
     },
     "execution_count": 103,
     "metadata": {},
     "output_type": "execute_result"
    }
   ],
   "source": [
    "y_res.shape"
   ]
  },
  {
   "cell_type": "code",
   "execution_count": 104,
   "id": "4be35012",
   "metadata": {},
   "outputs": [],
   "source": [
    "from collections import Counter"
   ]
  },
  {
   "cell_type": "code",
   "execution_count": 105,
   "id": "13c4261d",
   "metadata": {},
   "outputs": [
    {
     "name": "stdout",
     "output_type": "stream",
     "text": [
      "original dataset shape Counter({0: 54844, 1: 3748})\n",
      "Resampled dataset shape Counter({0: 49444, 1: 49444})\n"
     ]
    }
   ],
   "source": [
    "print('original dataset shape {}'.format(Counter(y)))\n",
    "print('Resampled dataset shape {}'.format(Counter(y_res)))"
   ]
  },
  {
   "cell_type": "raw",
   "id": "4c837724",
   "metadata": {},
   "source": [
    "original dataset shape Counter({0:54844, 1: 3748})\n",
    "Resampled dataset shape Counter({0: 49444, 1: 49444})"
   ]
  },
  {
   "cell_type": "markdown",
   "id": "4c922f3e",
   "metadata": {},
   "source": [
    "# Model deployment"
   ]
  },
  {
   "cell_type": "code",
   "execution_count": 106,
   "id": "2f75737d",
   "metadata": {},
   "outputs": [],
   "source": [
    "from sklearn.model_selection import train_test_split"
   ]
  },
  {
   "cell_type": "code",
   "execution_count": 107,
   "id": "f9e24560",
   "metadata": {},
   "outputs": [],
   "source": [
    "x_train,x_test,y_train,y_test=train_test_split(x_res,y_res,test_size=0.2,random_state=567)"
   ]
  },
  {
   "cell_type": "code",
   "execution_count": 108,
   "id": "e96f6c42",
   "metadata": {},
   "outputs": [
    {
     "data": {
      "text/plain": [
       "((79110, 43), (79110,))"
      ]
     },
     "execution_count": 108,
     "metadata": {},
     "output_type": "execute_result"
    }
   ],
   "source": [
    "x_train.shape,y_train.shape"
   ]
  },
  {
   "cell_type": "code",
   "execution_count": 109,
   "id": "91f49d92",
   "metadata": {},
   "outputs": [
    {
     "data": {
      "text/plain": [
       "((19778, 43), (19778,))"
      ]
     },
     "execution_count": 109,
     "metadata": {},
     "output_type": "execute_result"
    }
   ],
   "source": [
    "x_test.shape,y_test.shape"
   ]
  },
  {
   "cell_type": "code",
   "execution_count": 110,
   "id": "2ad97154",
   "metadata": {},
   "outputs": [],
   "source": [
    "## import libraries\n",
    "\n",
    "from sklearn.linear_model import LogisticRegression\n",
    "from sklearn.ensemble import RandomForestClassifier\n",
    "from sklearn.tree import DecisionTreeClassifier\n",
    "from sklearn.naive_bayes import GaussianNB\n",
    "from sklearn.neighbors import KNeighborsClassifier\n",
    "from sklearn.ensemble import GradientBoostingClassifier\n",
    "from sklearn.metrics import ConfusionMatrixDisplay,accuracy_score,confusion_matrix\n",
    "from sklearn import svm\n",
    "from sklearn import tree"
   ]
  },
  {
   "cell_type": "code",
   "execution_count": 111,
   "id": "d455e9e5",
   "metadata": {},
   "outputs": [],
   "source": [
    "model_list=[LogisticRegression,RandomForestClassifier,DecisionTreeClassifier,KNeighborsClassifier,GaussianNB,GradientBoostingClassifier,svm]"
   ]
  },
  {
   "cell_type": "markdown",
   "id": "796d816e",
   "metadata": {},
   "source": [
    "# LogisticRegression"
   ]
  },
  {
   "cell_type": "code",
   "execution_count": 112,
   "id": "0dd1d6ca",
   "metadata": {},
   "outputs": [
    {
     "data": {
      "image/png": "[encoded data removed]",
      "text/plain": [
       "<Figure size 432x288 with 2 Axes>"
      ]
     },
     "metadata": {
      "needs_background": "light"
     },
     "output_type": "display_data"
    }
   ],
   "source": [
    "accuracy=[]\n",
    "model = LogisticRegression()\n",
    "model.fit(x_train,y_train)\n",
    "y_pred = model.predict(x_test)\n",
    "ConfusionMatrixDisplay.from_predictions(y_test,y_pred)\n",
    "accuracy.append(accuracy_score(y_test,y_pred))"
   ]
  },
  {
   "cell_type": "code",
   "execution_count": 113,
   "id": "564cfb2e",
   "metadata": {},
   "outputs": [
    {
     "data": {
      "text/plain": [
       "array([0, 0, 1, ..., 1, 1, 0], dtype=int64)"
      ]
     },
     "execution_count": 113,
     "metadata": {},
     "output_type": "execute_result"
    }
   ],
   "source": [
    "y_pred"
   ]
  },
  {
   "cell_type": "code",
   "execution_count": 114,
   "id": "ac4626e7",
   "metadata": {},
   "outputs": [
    {
     "data": {
      "text/plain": [
       "[0.6019820002022449]"
      ]
     },
     "execution_count": 114,
     "metadata": {},
     "output_type": "execute_result"
    }
   ],
   "source": [
    "accuracy"
   ]
  },
  {
   "cell_type": "code",
   "execution_count": null,
   "id": "a497f147",
   "metadata": {},
   "outputs": [],
   "source": []
  },
  {
   "cell_type": "markdown",
   "id": "56ffaed0",
   "metadata": {},
   "source": [
    "# KNeighborsClassifier"
   ]
  },
  {
   "cell_type": "code",
   "execution_count": 115,
   "id": "26a8328f",
   "metadata": {},
   "outputs": [
    {
     "data": {
      "image/png": "[encoded data removed]",
      "text/plain": [
       "<Figure size 432x288 with 2 Axes>"
      ]
     },
     "metadata": {
      "needs_background": "light"
     },
     "output_type": "display_data"
    }
   ],
   "source": [
    "accuracy=[]\n",
    "model = KNeighborsClassifier()\n",
    "model.fit(x_train,y_train)\n",
    "y_pred = model.predict(x_test)\n",
    "ConfusionMatrixDisplay.from_predictions(y_test,y_pred)\n",
    "accuracy.append(accuracy_score(y_test,y_pred))"
   ]
  },
  {
   "cell_type": "code",
   "execution_count": 116,
   "id": "5d87af99",
   "metadata": {},
   "outputs": [
    {
     "data": {
      "text/plain": [
       "array([1, 0, 1, ..., 1, 1, 0], dtype=int64)"
      ]
     },
     "execution_count": 116,
     "metadata": {},
     "output_type": "execute_result"
    }
   ],
   "source": [
    "y_pred"
   ]
  },
  {
   "cell_type": "code",
   "execution_count": 117,
   "id": "e39a18e4",
   "metadata": {},
   "outputs": [
    {
     "data": {
      "text/plain": [
       "[0.8132773789058549]"
      ]
     },
     "execution_count": 117,
     "metadata": {},
     "output_type": "execute_result"
    }
   ],
   "source": [
    "accuracy"
   ]
  },
  {
   "cell_type": "markdown",
   "id": "3bdbd6ac",
   "metadata": {},
   "source": [
    "# naive bayes algorithm"
   ]
  },
  {
   "cell_type": "code",
   "execution_count": 118,
   "id": "ccbd53cf",
   "metadata": {},
   "outputs": [
    {
     "data": {
      "text/plain": [
       "GaussianNB()"
      ]
     },
     "execution_count": 118,
     "metadata": {},
     "output_type": "execute_result"
    }
   ],
   "source": [
    "model=GaussianNB()\n",
    "model.fit(x_train,y_train)"
   ]
  },
  {
   "cell_type": "code",
   "execution_count": 119,
   "id": "c9d333c9",
   "metadata": {},
   "outputs": [
    {
     "data": {
      "text/plain": [
       "array([1, 1, 1, ..., 1, 0, 0], dtype=int64)"
      ]
     },
     "execution_count": 119,
     "metadata": {},
     "output_type": "execute_result"
    }
   ],
   "source": [
    "y_pred=model.predict(x_test)\n",
    "y_pred"
   ]
  },
  {
   "cell_type": "code",
   "execution_count": 120,
   "id": "7ccbb9a6",
   "metadata": {},
   "outputs": [
    {
     "data": {
      "text/plain": [
       "0.6360097077560927"
      ]
     },
     "execution_count": 120,
     "metadata": {},
     "output_type": "execute_result"
    }
   ],
   "source": [
    "accuracy_score(y_pred,y_test)"
   ]
  },
  {
   "cell_type": "code",
   "execution_count": 121,
   "id": "135cfe8e",
   "metadata": {},
   "outputs": [
    {
     "data": {
      "text/plain": [
       "array([[4319, 1546],\n",
       "       [5653, 8260]], dtype=int64)"
      ]
     },
     "execution_count": 121,
     "metadata": {},
     "output_type": "execute_result"
    }
   ],
   "source": [
    "confusion_matrix(y_pred,y_test)"
   ]
  },
  {
   "cell_type": "markdown",
   "id": "9d33e8a1",
   "metadata": {},
   "source": [
    "# DecisionTreeClassifie"
   ]
  },
  {
   "cell_type": "code",
   "execution_count": 122,
   "id": "78fe7aba",
   "metadata": {},
   "outputs": [
    {
     "data": {
      "image/png": "[encoded data removed]",
      "text/plain": [
       "<Figure size 432x288 with 2 Axes>"
      ]
     },
     "metadata": {
      "needs_background": "light"
     },
     "output_type": "display_data"
    }
   ],
   "source": [
    "accuracy=[]\n",
    "model = DecisionTreeClassifier()\n",
    "model.fit(x_train,y_train)\n",
    "y_pred = model.predict(x_test)\n",
    "ConfusionMatrixDisplay.from_predictions(y_test,y_pred)\n",
    "accuracy.append(accuracy_score(y_test,y_pred))"
   ]
  },
  {
   "cell_type": "code",
   "execution_count": 123,
   "id": "a438bc15",
   "metadata": {},
   "outputs": [
    {
     "data": {
      "text/plain": [
       "array([0, 0, 1, ..., 0, 1, 0], dtype=int64)"
      ]
     },
     "execution_count": 123,
     "metadata": {},
     "output_type": "execute_result"
    }
   ],
   "source": [
    "y_pred"
   ]
  },
  {
   "cell_type": "code",
   "execution_count": 124,
   "id": "803b7ca4",
   "metadata": {},
   "outputs": [
    {
     "data": {
      "text/plain": [
       "[0.9175346344423096]"
      ]
     },
     "execution_count": 124,
     "metadata": {},
     "output_type": "execute_result"
    }
   ],
   "source": [
    "accuracy"
   ]
  },
  {
   "cell_type": "markdown",
   "id": "b450e2f9",
   "metadata": {},
   "source": [
    "# RandomForestClassifier¶"
   ]
  },
  {
   "cell_type": "code",
   "execution_count": null,
   "id": "96085ea5",
   "metadata": {},
   "outputs": [],
   "source": [
    "accuracy=[]\n",
    "m2 = RandomForestClassifier()\n",
    "m2.fit(x_train,y_train)\n",
    "y_pred = m2.predict(x_test)\n",
    "ConfusionMatrixDisplay.from_predictions(y_test,y_pred)\n",
    "accuracy.append(accuracy_score(y_test,y_pred))"
   ]
  },
  {
   "cell_type": "code",
   "execution_count": 126,
   "id": "88a3fba7",
   "metadata": {},
   "outputs": [
    {
     "data": {
      "text/plain": [
       "array([0, 0, 1, ..., 1, 1, 0], dtype=int64)"
      ]
     },
     "execution_count": 126,
     "metadata": {},
     "output_type": "execute_result"
    }
   ],
   "source": [
    "y_pred"
   ]
  },
  {
   "cell_type": "code",
   "execution_count": 127,
   "id": "e2545cde",
   "metadata": {},
   "outputs": [
    {
     "data": {
      "text/plain": [
       "[0.9531803013449287]"
      ]
     },
     "execution_count": 127,
     "metadata": {},
     "output_type": "execute_result"
    }
   ],
   "source": [
    "accuracy"
   ]
  },
  {
   "cell_type": "markdown",
   "id": "53e3b5ab",
   "metadata": {},
   "source": [
    "# gradient boosting algorithm"
   ]
  },
  {
   "cell_type": "code",
   "execution_count": 128,
   "id": "e4e718a2",
   "metadata": {},
   "outputs": [],
   "source": [
    "from sklearn.ensemble import GradientBoostingClassifier"
   ]
  },
  {
   "cell_type": "code",
   "execution_count": 129,
   "id": "56ff2639",
   "metadata": {},
   "outputs": [
    {
     "data": {
      "text/plain": [
       "GradientBoostingClassifier()"
      ]
     },
     "execution_count": 129,
     "metadata": {},
     "output_type": "execute_result"
    }
   ],
   "source": [
    "model=GradientBoostingClassifier()\n",
    "model"
   ]
  },
  {
   "cell_type": "code",
   "execution_count": 130,
   "id": "29597584",
   "metadata": {},
   "outputs": [
    {
     "data": {
      "text/plain": [
       "GradientBoostingClassifier()"
      ]
     },
     "execution_count": 130,
     "metadata": {},
     "output_type": "execute_result"
    }
   ],
   "source": [
    "model.fit(x_train,y_train)"
   ]
  },
  {
   "cell_type": "code",
   "execution_count": 131,
   "id": "deafe345",
   "metadata": {},
   "outputs": [
    {
     "data": {
      "text/plain": [
       "array([0, 0, 1, ..., 1, 1, 0], dtype=int64)"
      ]
     },
     "execution_count": 131,
     "metadata": {},
     "output_type": "execute_result"
    }
   ],
   "source": [
    "y_pred=model.predict(x_test)\n",
    "y_pred"
   ]
  },
  {
   "cell_type": "code",
   "execution_count": 132,
   "id": "544ac26c",
   "metadata": {},
   "outputs": [
    {
     "data": {
      "text/plain": [
       "0.9008494286581049"
      ]
     },
     "execution_count": 132,
     "metadata": {},
     "output_type": "execute_result"
    }
   ],
   "source": [
    "accuracy_score(y_pred,y_test)"
   ]
  },
  {
   "cell_type": "markdown",
   "id": "f5f073ad",
   "metadata": {},
   "source": [
    "# SVM"
   ]
  },
  {
   "cell_type": "code",
   "execution_count": 60,
   "id": "17a10659",
   "metadata": {},
   "outputs": [],
   "source": [
    "from sklearn.svm import SVC"
   ]
  },
  {
   "cell_type": "code",
   "execution_count": 61,
   "id": "f0943a85",
   "metadata": {},
   "outputs": [
    {
     "data": {
      "text/plain": [
       "SVC()"
      ]
     },
     "execution_count": 61,
     "metadata": {},
     "output_type": "execute_result"
    }
   ],
   "source": [
    "model=SVC()\n",
    "model"
   ]
  },
  {
   "cell_type": "code",
   "execution_count": null,
   "id": "af3b115b",
   "metadata": {},
   "outputs": [],
   "source": [
    "model.fit(x_train,y_train)"
   ]
  },
  {
   "cell_type": "code",
   "execution_count": null,
   "id": "08c57b9d",
   "metadata": {},
   "outputs": [],
   "source": [
    "y_pred=model.predict(x_test)\n",
    "y_pred"
   ]
  },
  {
   "cell_type": "code",
   "execution_count": null,
   "id": "34f42fa0",
   "metadata": {},
   "outputs": [],
   "source": [
    "accuracy_score(y_pred,y_test)"
   ]
  },
  {
   "cell_type": "code",
   "execution_count": null,
   "id": "50efd1e4",
   "metadata": {},
   "outputs": [],
   "source": [
    "confusion_matrix(y_pred,y_test)"
   ]
  },
  {
   "cell_type": "markdown",
   "id": "dfd4de02",
   "metadata": {},
   "source": [
    "# observation"
   ]
  },
  {
   "cell_type": "code",
   "execution_count": null,
   "id": "425924b2",
   "metadata": {},
   "outputs": [],
   "source": [
    "Accuracy_Score of Logistic_Regression =     0.6019820002022449\n",
    "Accuracy_Score of Decision_tree_classifier= 0.9187481039538882\n",
    "Accuracy_Score of KNeighborsClassifier=     0.8132773789058549\n",
    "Accuracy_Score of NaiveBayes=               0.6360097077560927\n",
    "Accuracy_Score of SVM=                     \n",
    "Accuracy_Score of RandomForestClassifier=   0.9531803013449287\n",
    "Accuracy_Score of GradientBoostingClassifier= 0.9008494286581049"
   ]
  },
  {
   "cell_type": "markdown",
   "id": "7d64fbe2",
   "metadata": {},
   "source": [
    "# conclusion"
   ]
  },
  {
   "cell_type": "raw",
   "id": "4d6abc31",
   "metadata": {},
   "source": [
    "From accuracy score we conclude that we should apply  Random Forestclassifier  "
   ]
  },
  {
   "cell_type": "markdown",
   "id": "03400b99",
   "metadata": {},
   "source": [
    "# "
   ]
  },
  {
   "cell_type": "raw",
   "id": "d210ab33",
   "metadata": {},
   "source": [
    "#importing test_data"
   ]
  },
  {
   "cell_type": "code",
   "execution_count": 185,
   "id": "d6786aab",
   "metadata": {},
   "outputs": [
    {
     "data": {
      "text/html": [
       "<div>\n",
       "<style scoped>\n",
       "    .dataframe tbody tr th:only-of-type {\n",
       "        vertical-align: middle;\n",
       "    }\n",
       "\n",
       "    .dataframe tbody tr th {\n",
       "        vertical-align: top;\n",
       "    }\n",
       "\n",
       "    .dataframe thead th {\n",
       "        text-align: right;\n",
       "    }\n",
       "</style>\n",
       "<table border=\"1\" class=\"dataframe\">\n",
       "  <thead>\n",
       "    <tr style=\"text-align: right;\">\n",
       "      <th></th>\n",
       "      <th>policy_id</th>\n",
       "      <th>policy_tenure</th>\n",
       "      <th>age_of_car</th>\n",
       "      <th>age_of_policyholder</th>\n",
       "      <th>area_cluster</th>\n",
       "      <th>population_density</th>\n",
       "      <th>make</th>\n",
       "      <th>segment</th>\n",
       "      <th>model</th>\n",
       "      <th>fuel_type</th>\n",
       "      <th>...</th>\n",
       "      <th>is_rear_window_defogger</th>\n",
       "      <th>is_brake_assist</th>\n",
       "      <th>is_power_door_locks</th>\n",
       "      <th>is_central_locking</th>\n",
       "      <th>is_power_steering</th>\n",
       "      <th>is_driver_seat_height_adjustable</th>\n",
       "      <th>is_day_night_rear_view_mirror</th>\n",
       "      <th>is_ecw</th>\n",
       "      <th>is_speed_alert</th>\n",
       "      <th>ncap_rating</th>\n",
       "    </tr>\n",
       "  </thead>\n",
       "  <tbody>\n",
       "    <tr>\n",
       "      <th>0</th>\n",
       "      <td>ID58593</td>\n",
       "      <td>0.341732</td>\n",
       "      <td>0.00</td>\n",
       "      <td>0.586538</td>\n",
       "      <td>C3</td>\n",
       "      <td>4076</td>\n",
       "      <td>1</td>\n",
       "      <td>A</td>\n",
       "      <td>M1</td>\n",
       "      <td>CNG</td>\n",
       "      <td>...</td>\n",
       "      <td>No</td>\n",
       "      <td>No</td>\n",
       "      <td>No</td>\n",
       "      <td>No</td>\n",
       "      <td>Yes</td>\n",
       "      <td>No</td>\n",
       "      <td>No</td>\n",
       "      <td>No</td>\n",
       "      <td>Yes</td>\n",
       "      <td>0</td>\n",
       "    </tr>\n",
       "    <tr>\n",
       "      <th>1</th>\n",
       "      <td>ID58594</td>\n",
       "      <td>0.307241</td>\n",
       "      <td>0.13</td>\n",
       "      <td>0.442308</td>\n",
       "      <td>C8</td>\n",
       "      <td>8794</td>\n",
       "      <td>1</td>\n",
       "      <td>B2</td>\n",
       "      <td>M6</td>\n",
       "      <td>Petrol</td>\n",
       "      <td>...</td>\n",
       "      <td>No</td>\n",
       "      <td>Yes</td>\n",
       "      <td>Yes</td>\n",
       "      <td>Yes</td>\n",
       "      <td>Yes</td>\n",
       "      <td>Yes</td>\n",
       "      <td>Yes</td>\n",
       "      <td>Yes</td>\n",
       "      <td>Yes</td>\n",
       "      <td>2</td>\n",
       "    </tr>\n",
       "    <tr>\n",
       "      <th>2</th>\n",
       "      <td>ID58595</td>\n",
       "      <td>0.327924</td>\n",
       "      <td>0.12</td>\n",
       "      <td>0.451923</td>\n",
       "      <td>C8</td>\n",
       "      <td>8794</td>\n",
       "      <td>2</td>\n",
       "      <td>A</td>\n",
       "      <td>M3</td>\n",
       "      <td>Petrol</td>\n",
       "      <td>...</td>\n",
       "      <td>No</td>\n",
       "      <td>No</td>\n",
       "      <td>Yes</td>\n",
       "      <td>Yes</td>\n",
       "      <td>Yes</td>\n",
       "      <td>No</td>\n",
       "      <td>Yes</td>\n",
       "      <td>Yes</td>\n",
       "      <td>Yes</td>\n",
       "      <td>2</td>\n",
       "    </tr>\n",
       "    <tr>\n",
       "      <th>3</th>\n",
       "      <td>ID58596</td>\n",
       "      <td>0.782654</td>\n",
       "      <td>0.01</td>\n",
       "      <td>0.461538</td>\n",
       "      <td>C5</td>\n",
       "      <td>34738</td>\n",
       "      <td>1</td>\n",
       "      <td>A</td>\n",
       "      <td>M1</td>\n",
       "      <td>CNG</td>\n",
       "      <td>...</td>\n",
       "      <td>No</td>\n",
       "      <td>No</td>\n",
       "      <td>No</td>\n",
       "      <td>No</td>\n",
       "      <td>Yes</td>\n",
       "      <td>No</td>\n",
       "      <td>No</td>\n",
       "      <td>No</td>\n",
       "      <td>Yes</td>\n",
       "      <td>0</td>\n",
       "    </tr>\n",
       "    <tr>\n",
       "      <th>4</th>\n",
       "      <td>ID58597</td>\n",
       "      <td>1.233404</td>\n",
       "      <td>0.02</td>\n",
       "      <td>0.634615</td>\n",
       "      <td>C5</td>\n",
       "      <td>34738</td>\n",
       "      <td>1</td>\n",
       "      <td>A</td>\n",
       "      <td>M1</td>\n",
       "      <td>CNG</td>\n",
       "      <td>...</td>\n",
       "      <td>No</td>\n",
       "      <td>No</td>\n",
       "      <td>No</td>\n",
       "      <td>No</td>\n",
       "      <td>Yes</td>\n",
       "      <td>No</td>\n",
       "      <td>No</td>\n",
       "      <td>No</td>\n",
       "      <td>Yes</td>\n",
       "      <td>0</td>\n",
       "    </tr>\n",
       "  </tbody>\n",
       "</table>\n",
       "<p>5 rows × 43 columns</p>\n",
       "</div>"
      ],
      "text/plain": [
       "  policy_id  policy_tenure  age_of_car  age_of_policyholder area_cluster  \\\n",
       "0   ID58593       0.341732        0.00             0.586538           C3   \n",
       "1   ID58594       0.307241        0.13             0.442308           C8   \n",
       "2   ID58595       0.327924        0.12             0.451923           C8   \n",
       "3   ID58596       0.782654        0.01             0.461538           C5   \n",
       "4   ID58597       1.233404        0.02             0.634615           C5   \n",
       "\n",
       "   population_density  make segment model fuel_type  ...  \\\n",
       "0                4076     1       A    M1       CNG  ...   \n",
       "1                8794     1      B2    M6    Petrol  ...   \n",
       "2                8794     2       A    M3    Petrol  ...   \n",
       "3               34738     1       A    M1       CNG  ...   \n",
       "4               34738     1       A    M1       CNG  ...   \n",
       "\n",
       "  is_rear_window_defogger is_brake_assist is_power_door_locks  \\\n",
       "0                      No              No                  No   \n",
       "1                      No             Yes                 Yes   \n",
       "2                      No              No                 Yes   \n",
       "3                      No              No                  No   \n",
       "4                      No              No                  No   \n",
       "\n",
       "   is_central_locking is_power_steering is_driver_seat_height_adjustable  \\\n",
       "0                  No               Yes                               No   \n",
       "1                 Yes               Yes                              Yes   \n",
       "2                 Yes               Yes                               No   \n",
       "3                  No               Yes                               No   \n",
       "4                  No               Yes                               No   \n",
       "\n",
       "  is_day_night_rear_view_mirror is_ecw is_speed_alert ncap_rating  \n",
       "0                            No     No            Yes           0  \n",
       "1                           Yes    Yes            Yes           2  \n",
       "2                           Yes    Yes            Yes           2  \n",
       "3                            No     No            Yes           0  \n",
       "4                            No     No            Yes           0  \n",
       "\n",
       "[5 rows x 43 columns]"
      ]
     },
     "execution_count": 185,
     "metadata": {},
     "output_type": "execute_result"
    }
   ],
   "source": [
    "d_test=pd.read_csv(\"C:\\\\Users\\\\ADMINH\\\\Downloads\\\\policy_data_test.csv\")\n",
    "d_test.head()"
   ]
  },
  {
   "cell_type": "code",
   "execution_count": 186,
   "id": "0387a2ec",
   "metadata": {},
   "outputs": [
    {
     "data": {
      "text/plain": [
       "(39063, 43)"
      ]
     },
     "execution_count": 186,
     "metadata": {},
     "output_type": "execute_result"
    }
   ],
   "source": [
    "d_test.shape"
   ]
  },
  {
   "cell_type": "code",
   "execution_count": 187,
   "id": "8f650eee",
   "metadata": {},
   "outputs": [
    {
     "name": "stdout",
     "output_type": "stream",
     "text": [
      "<class 'pandas.core.frame.DataFrame'>\n",
      "RangeIndex: 39063 entries, 0 to 39062\n",
      "Data columns (total 43 columns):\n",
      " #   Column                            Non-Null Count  Dtype  \n",
      "---  ------                            --------------  -----  \n",
      " 0   policy_id                         39063 non-null  object \n",
      " 1   policy_tenure                     39063 non-null  float64\n",
      " 2   age_of_car                        39063 non-null  float64\n",
      " 3   age_of_policyholder               39063 non-null  float64\n",
      " 4   area_cluster                      39063 non-null  object \n",
      " 5   population_density                39063 non-null  int64  \n",
      " 6   make                              39063 non-null  int64  \n",
      " 7   segment                           39063 non-null  object \n",
      " 8   model                             39063 non-null  object \n",
      " 9   fuel_type                         39063 non-null  object \n",
      " 10  max_torque                        39063 non-null  object \n",
      " 11  max_power                         39063 non-null  object \n",
      " 12  engine_type                       39063 non-null  object \n",
      " 13  airbags                           39063 non-null  int64  \n",
      " 14  is_esc                            39063 non-null  object \n",
      " 15  is_adjustable_steering            39063 non-null  object \n",
      " 16  is_tpms                           39063 non-null  object \n",
      " 17  is_parking_sensors                39063 non-null  object \n",
      " 18  is_parking_camera                 39063 non-null  object \n",
      " 19  rear_brakes_type                  39063 non-null  object \n",
      " 20  displacement                      39063 non-null  int64  \n",
      " 21  cylinder                          39063 non-null  int64  \n",
      " 22  transmission_type                 39063 non-null  object \n",
      " 23  gear_box                          39063 non-null  int64  \n",
      " 24  steering_type                     39063 non-null  object \n",
      " 25  turning_radius                    39063 non-null  float64\n",
      " 26  length                            39063 non-null  int64  \n",
      " 27  width                             39063 non-null  int64  \n",
      " 28  height                            39063 non-null  int64  \n",
      " 29  gross_weight                      39063 non-null  int64  \n",
      " 30  is_front_fog_lights               39063 non-null  object \n",
      " 31  is_rear_window_wiper              39063 non-null  object \n",
      " 32  is_rear_window_washer             39063 non-null  object \n",
      " 33  is_rear_window_defogger           39063 non-null  object \n",
      " 34  is_brake_assist                   39063 non-null  object \n",
      " 35  is_power_door_locks               39063 non-null  object \n",
      " 36  is_central_locking                39063 non-null  object \n",
      " 37  is_power_steering                 39063 non-null  object \n",
      " 38  is_driver_seat_height_adjustable  39063 non-null  object \n",
      " 39  is_day_night_rear_view_mirror     39063 non-null  object \n",
      " 40  is_ecw                            39063 non-null  object \n",
      " 41  is_speed_alert                    39063 non-null  object \n",
      " 42  ncap_rating                       39063 non-null  int64  \n",
      "dtypes: float64(4), int64(11), object(28)\n",
      "memory usage: 12.8+ MB\n"
     ]
    }
   ],
   "source": [
    "d_test.info()"
   ]
  },
  {
   "cell_type": "code",
   "execution_count": 188,
   "id": "3272f019",
   "metadata": {},
   "outputs": [
    {
     "data": {
      "text/html": [
       "<div>\n",
       "<style scoped>\n",
       "    .dataframe tbody tr th:only-of-type {\n",
       "        vertical-align: middle;\n",
       "    }\n",
       "\n",
       "    .dataframe tbody tr th {\n",
       "        vertical-align: top;\n",
       "    }\n",
       "\n",
       "    .dataframe thead th {\n",
       "        text-align: right;\n",
       "    }\n",
       "</style>\n",
       "<table border=\"1\" class=\"dataframe\">\n",
       "  <thead>\n",
       "    <tr style=\"text-align: right;\">\n",
       "      <th></th>\n",
       "      <th>policy_tenure</th>\n",
       "      <th>age_of_car</th>\n",
       "      <th>age_of_policyholder</th>\n",
       "      <th>population_density</th>\n",
       "      <th>make</th>\n",
       "      <th>airbags</th>\n",
       "      <th>displacement</th>\n",
       "      <th>cylinder</th>\n",
       "      <th>gear_box</th>\n",
       "      <th>turning_radius</th>\n",
       "      <th>length</th>\n",
       "      <th>width</th>\n",
       "      <th>height</th>\n",
       "      <th>gross_weight</th>\n",
       "      <th>ncap_rating</th>\n",
       "    </tr>\n",
       "  </thead>\n",
       "  <tbody>\n",
       "    <tr>\n",
       "      <th>count</th>\n",
       "      <td>39063.000000</td>\n",
       "      <td>39063.000000</td>\n",
       "      <td>39063.000000</td>\n",
       "      <td>39063.000000</td>\n",
       "      <td>39063.000000</td>\n",
       "      <td>39063.000000</td>\n",
       "      <td>39063.000000</td>\n",
       "      <td>39063.000000</td>\n",
       "      <td>39063.000000</td>\n",
       "      <td>39063.000000</td>\n",
       "      <td>39063.000000</td>\n",
       "      <td>39063.000000</td>\n",
       "      <td>39063.000000</td>\n",
       "      <td>39063.000000</td>\n",
       "      <td>39063.000000</td>\n",
       "    </tr>\n",
       "    <tr>\n",
       "      <th>mean</th>\n",
       "      <td>0.611304</td>\n",
       "      <td>0.069635</td>\n",
       "      <td>0.469087</td>\n",
       "      <td>18816.232496</td>\n",
       "      <td>1.763382</td>\n",
       "      <td>3.139672</td>\n",
       "      <td>1160.605842</td>\n",
       "      <td>3.620613</td>\n",
       "      <td>5.245782</td>\n",
       "      <td>4.853222</td>\n",
       "      <td>3849.328981</td>\n",
       "      <td>1671.774979</td>\n",
       "      <td>1553.033203</td>\n",
       "      <td>1384.501677</td>\n",
       "      <td>1.759235</td>\n",
       "    </tr>\n",
       "    <tr>\n",
       "      <th>std</th>\n",
       "      <td>0.415005</td>\n",
       "      <td>0.056854</td>\n",
       "      <td>0.122072</td>\n",
       "      <td>17651.942351</td>\n",
       "      <td>1.134112</td>\n",
       "      <td>1.831043</td>\n",
       "      <td>266.942754</td>\n",
       "      <td>0.485241</td>\n",
       "      <td>0.430556</td>\n",
       "      <td>0.228060</td>\n",
       "      <td>312.181174</td>\n",
       "      <td>111.973404</td>\n",
       "      <td>79.030425</td>\n",
       "      <td>212.724627</td>\n",
       "      <td>1.386689</td>\n",
       "    </tr>\n",
       "    <tr>\n",
       "      <th>min</th>\n",
       "      <td>0.002745</td>\n",
       "      <td>0.000000</td>\n",
       "      <td>0.288462</td>\n",
       "      <td>290.000000</td>\n",
       "      <td>1.000000</td>\n",
       "      <td>1.000000</td>\n",
       "      <td>796.000000</td>\n",
       "      <td>3.000000</td>\n",
       "      <td>5.000000</td>\n",
       "      <td>4.500000</td>\n",
       "      <td>3445.000000</td>\n",
       "      <td>1475.000000</td>\n",
       "      <td>1475.000000</td>\n",
       "      <td>1051.000000</td>\n",
       "      <td>0.000000</td>\n",
       "    </tr>\n",
       "    <tr>\n",
       "      <th>25%</th>\n",
       "      <td>0.208958</td>\n",
       "      <td>0.020000</td>\n",
       "      <td>0.375000</td>\n",
       "      <td>6112.000000</td>\n",
       "      <td>1.000000</td>\n",
       "      <td>2.000000</td>\n",
       "      <td>796.000000</td>\n",
       "      <td>3.000000</td>\n",
       "      <td>5.000000</td>\n",
       "      <td>4.600000</td>\n",
       "      <td>3445.000000</td>\n",
       "      <td>1515.000000</td>\n",
       "      <td>1475.000000</td>\n",
       "      <td>1185.000000</td>\n",
       "      <td>0.000000</td>\n",
       "    </tr>\n",
       "    <tr>\n",
       "      <th>50%</th>\n",
       "      <td>0.574078</td>\n",
       "      <td>0.060000</td>\n",
       "      <td>0.451923</td>\n",
       "      <td>8794.000000</td>\n",
       "      <td>1.000000</td>\n",
       "      <td>2.000000</td>\n",
       "      <td>1197.000000</td>\n",
       "      <td>4.000000</td>\n",
       "      <td>5.000000</td>\n",
       "      <td>4.800000</td>\n",
       "      <td>3845.000000</td>\n",
       "      <td>1735.000000</td>\n",
       "      <td>1530.000000</td>\n",
       "      <td>1335.000000</td>\n",
       "      <td>2.000000</td>\n",
       "    </tr>\n",
       "    <tr>\n",
       "      <th>75%</th>\n",
       "      <td>1.040936</td>\n",
       "      <td>0.110000</td>\n",
       "      <td>0.548077</td>\n",
       "      <td>27003.000000</td>\n",
       "      <td>3.000000</td>\n",
       "      <td>6.000000</td>\n",
       "      <td>1493.000000</td>\n",
       "      <td>4.000000</td>\n",
       "      <td>5.000000</td>\n",
       "      <td>5.000000</td>\n",
       "      <td>3995.000000</td>\n",
       "      <td>1755.000000</td>\n",
       "      <td>1635.000000</td>\n",
       "      <td>1510.000000</td>\n",
       "      <td>3.000000</td>\n",
       "    </tr>\n",
       "    <tr>\n",
       "      <th>max</th>\n",
       "      <td>1.391398</td>\n",
       "      <td>1.000000</td>\n",
       "      <td>0.990385</td>\n",
       "      <td>73430.000000</td>\n",
       "      <td>5.000000</td>\n",
       "      <td>6.000000</td>\n",
       "      <td>1498.000000</td>\n",
       "      <td>4.000000</td>\n",
       "      <td>6.000000</td>\n",
       "      <td>5.200000</td>\n",
       "      <td>4300.000000</td>\n",
       "      <td>1811.000000</td>\n",
       "      <td>1825.000000</td>\n",
       "      <td>1720.000000</td>\n",
       "      <td>5.000000</td>\n",
       "    </tr>\n",
       "  </tbody>\n",
       "</table>\n",
       "</div>"
      ],
      "text/plain": [
       "       policy_tenure    age_of_car  age_of_policyholder  population_density  \\\n",
       "count   39063.000000  39063.000000         39063.000000        39063.000000   \n",
       "mean        0.611304      0.069635             0.469087        18816.232496   \n",
       "std         0.415005      0.056854             0.122072        17651.942351   \n",
       "min         0.002745      0.000000             0.288462          290.000000   \n",
       "25%         0.208958      0.020000             0.375000         6112.000000   \n",
       "50%         0.574078      0.060000             0.451923         8794.000000   \n",
       "75%         1.040936      0.110000             0.548077        27003.000000   \n",
       "max         1.391398      1.000000             0.990385        73430.000000   \n",
       "\n",
       "               make       airbags  displacement      cylinder      gear_box  \\\n",
       "count  39063.000000  39063.000000  39063.000000  39063.000000  39063.000000   \n",
       "mean       1.763382      3.139672   1160.605842      3.620613      5.245782   \n",
       "std        1.134112      1.831043    266.942754      0.485241      0.430556   \n",
       "min        1.000000      1.000000    796.000000      3.000000      5.000000   \n",
       "25%        1.000000      2.000000    796.000000      3.000000      5.000000   \n",
       "50%        1.000000      2.000000   1197.000000      4.000000      5.000000   \n",
       "75%        3.000000      6.000000   1493.000000      4.000000      5.000000   \n",
       "max        5.000000      6.000000   1498.000000      4.000000      6.000000   \n",
       "\n",
       "       turning_radius        length         width        height  gross_weight  \\\n",
       "count    39063.000000  39063.000000  39063.000000  39063.000000  39063.000000   \n",
       "mean         4.853222   3849.328981   1671.774979   1553.033203   1384.501677   \n",
       "std          0.228060    312.181174    111.973404     79.030425    212.724627   \n",
       "min          4.500000   3445.000000   1475.000000   1475.000000   1051.000000   \n",
       "25%          4.600000   3445.000000   1515.000000   1475.000000   1185.000000   \n",
       "50%          4.800000   3845.000000   1735.000000   1530.000000   1335.000000   \n",
       "75%          5.000000   3995.000000   1755.000000   1635.000000   1510.000000   \n",
       "max          5.200000   4300.000000   1811.000000   1825.000000   1720.000000   \n",
       "\n",
       "        ncap_rating  \n",
       "count  39063.000000  \n",
       "mean       1.759235  \n",
       "std        1.386689  \n",
       "min        0.000000  \n",
       "25%        0.000000  \n",
       "50%        2.000000  \n",
       "75%        3.000000  \n",
       "max        5.000000  "
      ]
     },
     "execution_count": 188,
     "metadata": {},
     "output_type": "execute_result"
    }
   ],
   "source": [
    "d_test.describe()"
   ]
  },
  {
   "cell_type": "code",
   "execution_count": 189,
   "id": "a78e3c57",
   "metadata": {},
   "outputs": [
    {
     "data": {
      "text/html": [
       "<div>\n",
       "<style scoped>\n",
       "    .dataframe tbody tr th:only-of-type {\n",
       "        vertical-align: middle;\n",
       "    }\n",
       "\n",
       "    .dataframe tbody tr th {\n",
       "        vertical-align: top;\n",
       "    }\n",
       "\n",
       "    .dataframe thead th {\n",
       "        text-align: right;\n",
       "    }\n",
       "</style>\n",
       "<table border=\"1\" class=\"dataframe\">\n",
       "  <thead>\n",
       "    <tr style=\"text-align: right;\">\n",
       "      <th></th>\n",
       "      <th>policy_tenure</th>\n",
       "      <th>age_of_car</th>\n",
       "      <th>age_of_policyholder</th>\n",
       "      <th>population_density</th>\n",
       "      <th>make</th>\n",
       "      <th>airbags</th>\n",
       "      <th>displacement</th>\n",
       "      <th>cylinder</th>\n",
       "      <th>gear_box</th>\n",
       "      <th>turning_radius</th>\n",
       "      <th>length</th>\n",
       "      <th>width</th>\n",
       "      <th>height</th>\n",
       "      <th>gross_weight</th>\n",
       "      <th>ncap_rating</th>\n",
       "    </tr>\n",
       "  </thead>\n",
       "  <tbody>\n",
       "    <tr>\n",
       "      <th>policy_tenure</th>\n",
       "      <td>1.000000</td>\n",
       "      <td>0.167277</td>\n",
       "      <td>0.146140</td>\n",
       "      <td>-0.101565</td>\n",
       "      <td>0.082356</td>\n",
       "      <td>0.095584</td>\n",
       "      <td>0.198432</td>\n",
       "      <td>0.202682</td>\n",
       "      <td>0.085685</td>\n",
       "      <td>0.162184</td>\n",
       "      <td>0.191187</td>\n",
       "      <td>0.216792</td>\n",
       "      <td>0.120519</td>\n",
       "      <td>0.136778</td>\n",
       "      <td>0.175686</td>\n",
       "    </tr>\n",
       "    <tr>\n",
       "      <th>age_of_car</th>\n",
       "      <td>0.167277</td>\n",
       "      <td>1.000000</td>\n",
       "      <td>-0.034012</td>\n",
       "      <td>-0.067990</td>\n",
       "      <td>0.188491</td>\n",
       "      <td>0.211451</td>\n",
       "      <td>0.391571</td>\n",
       "      <td>0.374839</td>\n",
       "      <td>0.201858</td>\n",
       "      <td>0.336417</td>\n",
       "      <td>0.383390</td>\n",
       "      <td>0.416603</td>\n",
       "      <td>0.258190</td>\n",
       "      <td>0.299890</td>\n",
       "      <td>0.351850</td>\n",
       "    </tr>\n",
       "    <tr>\n",
       "      <th>age_of_policyholder</th>\n",
       "      <td>0.146140</td>\n",
       "      <td>-0.034012</td>\n",
       "      <td>1.000000</td>\n",
       "      <td>0.010307</td>\n",
       "      <td>-0.036057</td>\n",
       "      <td>-0.012098</td>\n",
       "      <td>-0.025493</td>\n",
       "      <td>0.005452</td>\n",
       "      <td>-0.005384</td>\n",
       "      <td>-0.019707</td>\n",
       "      <td>-0.021928</td>\n",
       "      <td>-0.009659</td>\n",
       "      <td>-0.053666</td>\n",
       "      <td>-0.010494</td>\n",
       "      <td>-0.035773</td>\n",
       "    </tr>\n",
       "    <tr>\n",
       "      <th>population_density</th>\n",
       "      <td>-0.101565</td>\n",
       "      <td>-0.067990</td>\n",
       "      <td>0.010307</td>\n",
       "      <td>1.000000</td>\n",
       "      <td>-0.043839</td>\n",
       "      <td>-0.055912</td>\n",
       "      <td>-0.092350</td>\n",
       "      <td>-0.092937</td>\n",
       "      <td>-0.053215</td>\n",
       "      <td>-0.078992</td>\n",
       "      <td>-0.092074</td>\n",
       "      <td>-0.101969</td>\n",
       "      <td>-0.049714</td>\n",
       "      <td>-0.069254</td>\n",
       "      <td>-0.078531</td>\n",
       "    </tr>\n",
       "    <tr>\n",
       "      <th>make</th>\n",
       "      <td>0.082356</td>\n",
       "      <td>0.188491</td>\n",
       "      <td>-0.036057</td>\n",
       "      <td>-0.043839</td>\n",
       "      <td>1.000000</td>\n",
       "      <td>0.504645</td>\n",
       "      <td>0.755068</td>\n",
       "      <td>0.416595</td>\n",
       "      <td>0.634834</td>\n",
       "      <td>0.755812</td>\n",
       "      <td>0.694423</td>\n",
       "      <td>0.514466</td>\n",
       "      <td>0.309563</td>\n",
       "      <td>0.485323</td>\n",
       "      <td>0.792000</td>\n",
       "    </tr>\n",
       "    <tr>\n",
       "      <th>airbags</th>\n",
       "      <td>0.095584</td>\n",
       "      <td>0.211451</td>\n",
       "      <td>-0.012098</td>\n",
       "      <td>-0.055912</td>\n",
       "      <td>0.504645</td>\n",
       "      <td>1.000000</td>\n",
       "      <td>0.665647</td>\n",
       "      <td>0.486651</td>\n",
       "      <td>0.861110</td>\n",
       "      <td>0.810537</td>\n",
       "      <td>0.810780</td>\n",
       "      <td>0.641962</td>\n",
       "      <td>0.435285</td>\n",
       "      <td>0.833079</td>\n",
       "      <td>0.343416</td>\n",
       "    </tr>\n",
       "    <tr>\n",
       "      <th>displacement</th>\n",
       "      <td>0.198432</td>\n",
       "      <td>0.391571</td>\n",
       "      <td>-0.025493</td>\n",
       "      <td>-0.092350</td>\n",
       "      <td>0.755068</td>\n",
       "      <td>0.665647</td>\n",
       "      <td>1.000000</td>\n",
       "      <td>0.867396</td>\n",
       "      <td>0.695379</td>\n",
       "      <td>0.877767</td>\n",
       "      <td>0.962582</td>\n",
       "      <td>0.903793</td>\n",
       "      <td>0.558502</td>\n",
       "      <td>0.778678</td>\n",
       "      <td>0.848627</td>\n",
       "    </tr>\n",
       "    <tr>\n",
       "      <th>cylinder</th>\n",
       "      <td>0.202682</td>\n",
       "      <td>0.374839</td>\n",
       "      <td>0.005452</td>\n",
       "      <td>-0.092937</td>\n",
       "      <td>0.416595</td>\n",
       "      <td>0.486651</td>\n",
       "      <td>0.867396</td>\n",
       "      <td>1.000000</td>\n",
       "      <td>0.417414</td>\n",
       "      <td>0.621211</td>\n",
       "      <td>0.808349</td>\n",
       "      <td>0.868866</td>\n",
       "      <td>0.348460</td>\n",
       "      <td>0.606497</td>\n",
       "      <td>0.601274</td>\n",
       "    </tr>\n",
       "    <tr>\n",
       "      <th>gear_box</th>\n",
       "      <td>0.085685</td>\n",
       "      <td>0.201858</td>\n",
       "      <td>-0.005384</td>\n",
       "      <td>-0.053215</td>\n",
       "      <td>0.634834</td>\n",
       "      <td>0.861110</td>\n",
       "      <td>0.695379</td>\n",
       "      <td>0.417414</td>\n",
       "      <td>1.000000</td>\n",
       "      <td>0.861879</td>\n",
       "      <td>0.810311</td>\n",
       "      <td>0.605368</td>\n",
       "      <td>0.586925</td>\n",
       "      <td>0.896379</td>\n",
       "      <td>0.531029</td>\n",
       "    </tr>\n",
       "    <tr>\n",
       "      <th>turning_radius</th>\n",
       "      <td>0.162184</td>\n",
       "      <td>0.336417</td>\n",
       "      <td>-0.019707</td>\n",
       "      <td>-0.078992</td>\n",
       "      <td>0.755812</td>\n",
       "      <td>0.810537</td>\n",
       "      <td>0.877767</td>\n",
       "      <td>0.621211</td>\n",
       "      <td>0.861879</td>\n",
       "      <td>1.000000</td>\n",
       "      <td>0.945315</td>\n",
       "      <td>0.824623</td>\n",
       "      <td>0.473701</td>\n",
       "      <td>0.825790</td>\n",
       "      <td>0.779173</td>\n",
       "    </tr>\n",
       "    <tr>\n",
       "      <th>length</th>\n",
       "      <td>0.191187</td>\n",
       "      <td>0.383390</td>\n",
       "      <td>-0.021928</td>\n",
       "      <td>-0.092074</td>\n",
       "      <td>0.694423</td>\n",
       "      <td>0.810780</td>\n",
       "      <td>0.962582</td>\n",
       "      <td>0.808349</td>\n",
       "      <td>0.810311</td>\n",
       "      <td>0.945315</td>\n",
       "      <td>1.000000</td>\n",
       "      <td>0.917906</td>\n",
       "      <td>0.561665</td>\n",
       "      <td>0.863844</td>\n",
       "      <td>0.768578</td>\n",
       "    </tr>\n",
       "    <tr>\n",
       "      <th>width</th>\n",
       "      <td>0.216792</td>\n",
       "      <td>0.416603</td>\n",
       "      <td>-0.009659</td>\n",
       "      <td>-0.101969</td>\n",
       "      <td>0.514466</td>\n",
       "      <td>0.641962</td>\n",
       "      <td>0.903793</td>\n",
       "      <td>0.868866</td>\n",
       "      <td>0.605368</td>\n",
       "      <td>0.824623</td>\n",
       "      <td>0.917906</td>\n",
       "      <td>1.000000</td>\n",
       "      <td>0.408288</td>\n",
       "      <td>0.741530</td>\n",
       "      <td>0.771862</td>\n",
       "    </tr>\n",
       "    <tr>\n",
       "      <th>height</th>\n",
       "      <td>0.120519</td>\n",
       "      <td>0.258190</td>\n",
       "      <td>-0.053666</td>\n",
       "      <td>-0.049714</td>\n",
       "      <td>0.309563</td>\n",
       "      <td>0.435285</td>\n",
       "      <td>0.558502</td>\n",
       "      <td>0.348460</td>\n",
       "      <td>0.586925</td>\n",
       "      <td>0.473701</td>\n",
       "      <td>0.561665</td>\n",
       "      <td>0.408288</td>\n",
       "      <td>1.000000</td>\n",
       "      <td>0.731031</td>\n",
       "      <td>0.454170</td>\n",
       "    </tr>\n",
       "    <tr>\n",
       "      <th>gross_weight</th>\n",
       "      <td>0.136778</td>\n",
       "      <td>0.299890</td>\n",
       "      <td>-0.010494</td>\n",
       "      <td>-0.069254</td>\n",
       "      <td>0.485323</td>\n",
       "      <td>0.833079</td>\n",
       "      <td>0.778678</td>\n",
       "      <td>0.606497</td>\n",
       "      <td>0.896379</td>\n",
       "      <td>0.825790</td>\n",
       "      <td>0.863844</td>\n",
       "      <td>0.741530</td>\n",
       "      <td>0.731031</td>\n",
       "      <td>1.000000</td>\n",
       "      <td>0.561064</td>\n",
       "    </tr>\n",
       "    <tr>\n",
       "      <th>ncap_rating</th>\n",
       "      <td>0.175686</td>\n",
       "      <td>0.351850</td>\n",
       "      <td>-0.035773</td>\n",
       "      <td>-0.078531</td>\n",
       "      <td>0.792000</td>\n",
       "      <td>0.343416</td>\n",
       "      <td>0.848627</td>\n",
       "      <td>0.601274</td>\n",
       "      <td>0.531029</td>\n",
       "      <td>0.779173</td>\n",
       "      <td>0.768578</td>\n",
       "      <td>0.771862</td>\n",
       "      <td>0.454170</td>\n",
       "      <td>0.561064</td>\n",
       "      <td>1.000000</td>\n",
       "    </tr>\n",
       "  </tbody>\n",
       "</table>\n",
       "</div>"
      ],
      "text/plain": [
       "                     policy_tenure  age_of_car  age_of_policyholder  \\\n",
       "policy_tenure             1.000000    0.167277             0.146140   \n",
       "age_of_car                0.167277    1.000000            -0.034012   \n",
       "age_of_policyholder       0.146140   -0.034012             1.000000   \n",
       "population_density       -0.101565   -0.067990             0.010307   \n",
       "make                      0.082356    0.188491            -0.036057   \n",
       "airbags                   0.095584    0.211451            -0.012098   \n",
       "displacement              0.198432    0.391571            -0.025493   \n",
       "cylinder                  0.202682    0.374839             0.005452   \n",
       "gear_box                  0.085685    0.201858            -0.005384   \n",
       "turning_radius            0.162184    0.336417            -0.019707   \n",
       "length                    0.191187    0.383390            -0.021928   \n",
       "width                     0.216792    0.416603            -0.009659   \n",
       "height                    0.120519    0.258190            -0.053666   \n",
       "gross_weight              0.136778    0.299890            -0.010494   \n",
       "ncap_rating               0.175686    0.351850            -0.035773   \n",
       "\n",
       "                     population_density      make   airbags  displacement  \\\n",
       "policy_tenure                 -0.101565  0.082356  0.095584      0.198432   \n",
       "age_of_car                    -0.067990  0.188491  0.211451      0.391571   \n",
       "age_of_policyholder            0.010307 -0.036057 -0.012098     -0.025493   \n",
       "population_density             1.000000 -0.043839 -0.055912     -0.092350   \n",
       "make                          -0.043839  1.000000  0.504645      0.755068   \n",
       "airbags                       -0.055912  0.504645  1.000000      0.665647   \n",
       "displacement                  -0.092350  0.755068  0.665647      1.000000   \n",
       "cylinder                      -0.092937  0.416595  0.486651      0.867396   \n",
       "gear_box                      -0.053215  0.634834  0.861110      0.695379   \n",
       "turning_radius                -0.078992  0.755812  0.810537      0.877767   \n",
       "length                        -0.092074  0.694423  0.810780      0.962582   \n",
       "width                         -0.101969  0.514466  0.641962      0.903793   \n",
       "height                        -0.049714  0.309563  0.435285      0.558502   \n",
       "gross_weight                  -0.069254  0.485323  0.833079      0.778678   \n",
       "ncap_rating                   -0.078531  0.792000  0.343416      0.848627   \n",
       "\n",
       "                     cylinder  gear_box  turning_radius    length     width  \\\n",
       "policy_tenure        0.202682  0.085685        0.162184  0.191187  0.216792   \n",
       "age_of_car           0.374839  0.201858        0.336417  0.383390  0.416603   \n",
       "age_of_policyholder  0.005452 -0.005384       -0.019707 -0.021928 -0.009659   \n",
       "population_density  -0.092937 -0.053215       -0.078992 -0.092074 -0.101969   \n",
       "make                 0.416595  0.634834        0.755812  0.694423  0.514466   \n",
       "airbags              0.486651  0.861110        0.810537  0.810780  0.641962   \n",
       "displacement         0.867396  0.695379        0.877767  0.962582  0.903793   \n",
       "cylinder             1.000000  0.417414        0.621211  0.808349  0.868866   \n",
       "gear_box             0.417414  1.000000        0.861879  0.810311  0.605368   \n",
       "turning_radius       0.621211  0.861879        1.000000  0.945315  0.824623   \n",
       "length               0.808349  0.810311        0.945315  1.000000  0.917906   \n",
       "width                0.868866  0.605368        0.824623  0.917906  1.000000   \n",
       "height               0.348460  0.586925        0.473701  0.561665  0.408288   \n",
       "gross_weight         0.606497  0.896379        0.825790  0.863844  0.741530   \n",
       "ncap_rating          0.601274  0.531029        0.779173  0.768578  0.771862   \n",
       "\n",
       "                       height  gross_weight  ncap_rating  \n",
       "policy_tenure        0.120519      0.136778     0.175686  \n",
       "age_of_car           0.258190      0.299890     0.351850  \n",
       "age_of_policyholder -0.053666     -0.010494    -0.035773  \n",
       "population_density  -0.049714     -0.069254    -0.078531  \n",
       "make                 0.309563      0.485323     0.792000  \n",
       "airbags              0.435285      0.833079     0.343416  \n",
       "displacement         0.558502      0.778678     0.848627  \n",
       "cylinder             0.348460      0.606497     0.601274  \n",
       "gear_box             0.586925      0.896379     0.531029  \n",
       "turning_radius       0.473701      0.825790     0.779173  \n",
       "length               0.561665      0.863844     0.768578  \n",
       "width                0.408288      0.741530     0.771862  \n",
       "height               1.000000      0.731031     0.454170  \n",
       "gross_weight         0.731031      1.000000     0.561064  \n",
       "ncap_rating          0.454170      0.561064     1.000000  "
      ]
     },
     "execution_count": 189,
     "metadata": {},
     "output_type": "execute_result"
    }
   ],
   "source": [
    "d_test.corr()"
   ]
  },
  {
   "cell_type": "code",
   "execution_count": 190,
   "id": "1c8a331d",
   "metadata": {},
   "outputs": [
    {
     "data": {
      "text/plain": [
       "<AxesSubplot:>"
      ]
     },
     "execution_count": 190,
     "metadata": {},
     "output_type": "execute_result"
    },
    {
     "data": {
      "image/png": "[encoded data removed]",
      "text/plain": [
       "<Figure size 720x432 with 2 Axes>"
      ]
     },
     "metadata": {
      "needs_background": "light"
     },
     "output_type": "display_data"
    }
   ],
   "source": [
    "plt.figure(figsize=(10,6))\n",
    "sns.heatmap(d_test.corr(),annot=True,linewidths=2)"
   ]
  },
  {
   "cell_type": "code",
   "execution_count": 191,
   "id": "41fdafa5",
   "metadata": {},
   "outputs": [
    {
     "data": {
      "text/plain": [
       "policy_id                            object\n",
       "policy_tenure                       float64\n",
       "age_of_car                          float64\n",
       "age_of_policyholder                 float64\n",
       "area_cluster                         object\n",
       "population_density                    int64\n",
       "make                                  int64\n",
       "segment                              object\n",
       "model                                object\n",
       "fuel_type                            object\n",
       "max_torque                           object\n",
       "max_power                            object\n",
       "engine_type                          object\n",
       "airbags                               int64\n",
       "is_esc                               object\n",
       "is_adjustable_steering               object\n",
       "is_tpms                              object\n",
       "is_parking_sensors                   object\n",
       "is_parking_camera                    object\n",
       "rear_brakes_type                     object\n",
       "displacement                          int64\n",
       "cylinder                              int64\n",
       "transmission_type                    object\n",
       "gear_box                              int64\n",
       "steering_type                        object\n",
       "turning_radius                      float64\n",
       "length                                int64\n",
       "width                                 int64\n",
       "height                                int64\n",
       "gross_weight                          int64\n",
       "is_front_fog_lights                  object\n",
       "is_rear_window_wiper                 object\n",
       "is_rear_window_washer                object\n",
       "is_rear_window_defogger              object\n",
       "is_brake_assist                      object\n",
       "is_power_door_locks                  object\n",
       "is_central_locking                   object\n",
       "is_power_steering                    object\n",
       "is_driver_seat_height_adjustable     object\n",
       "is_day_night_rear_view_mirror        object\n",
       "is_ecw                               object\n",
       "is_speed_alert                       object\n",
       "ncap_rating                           int64\n",
       "dtype: object"
      ]
     },
     "execution_count": 191,
     "metadata": {},
     "output_type": "execute_result"
    }
   ],
   "source": [
    "d_test.dtypes"
   ]
  },
  {
   "cell_type": "code",
   "execution_count": 194,
   "id": "62803d8e",
   "metadata": {},
   "outputs": [],
   "source": [
    "from sklearn.preprocessing import LabelEncoder\n",
    "lb=LabelEncoder()"
   ]
  },
  {
   "cell_type": "code",
   "execution_count": 195,
   "id": "24ac7359",
   "metadata": {},
   "outputs": [
    {
     "data": {
      "text/plain": [
       "['policy_id',\n",
       " 'area_cluster',\n",
       " 'segment',\n",
       " 'model',\n",
       " 'fuel_type',\n",
       " 'max_torque',\n",
       " 'max_power',\n",
       " 'engine_type',\n",
       " 'is_esc',\n",
       " 'is_adjustable_steering',\n",
       " 'is_tpms',\n",
       " 'is_parking_sensors',\n",
       " 'is_parking_camera',\n",
       " 'rear_brakes_type',\n",
       " 'transmission_type',\n",
       " 'steering_type',\n",
       " 'is_front_fog_lights',\n",
       " 'is_rear_window_wiper',\n",
       " 'is_rear_window_washer',\n",
       " 'is_rear_window_defogger',\n",
       " 'is_brake_assist',\n",
       " 'is_power_door_locks',\n",
       " 'is_central_locking',\n",
       " 'is_power_steering',\n",
       " 'is_driver_seat_height_adjustable',\n",
       " 'is_day_night_rear_view_mirror',\n",
       " 'is_ecw',\n",
       " 'is_speed_alert']"
      ]
     },
     "execution_count": 195,
     "metadata": {},
     "output_type": "execute_result"
    }
   ],
   "source": [
    "lst=[]\n",
    "for i in d_test.columns:\n",
    "    if d_test[i].dtype==\"O\":\n",
    "        lst.append(i)\n",
    "        \n",
    "lst"
   ]
  },
  {
   "cell_type": "code",
   "execution_count": 196,
   "id": "a5be47aa",
   "metadata": {},
   "outputs": [
    {
     "data": {
      "text/plain": [
       "0        0\n",
       "1        1\n",
       "2        1\n",
       "3        0\n",
       "4        0\n",
       "        ..\n",
       "39058    1\n",
       "39059    2\n",
       "39060    0\n",
       "39061    1\n",
       "39062    2\n",
       "Name: ncap_rating, Length: 39063, dtype: int64"
      ]
     },
     "execution_count": 196,
     "metadata": {},
     "output_type": "execute_result"
    }
   ],
   "source": [
    "for i in d_test.columns:\n",
    "    d_test[i]=lb.fit_transform(d_test[i])\n",
    "d_test[i]  "
   ]
  },
  {
   "cell_type": "code",
   "execution_count": 197,
   "id": "6fd7053d",
   "metadata": {},
   "outputs": [
    {
     "data": {
      "text/plain": [
       "policy_id                           int32\n",
       "policy_tenure                       int64\n",
       "age_of_car                          int64\n",
       "age_of_policyholder                 int64\n",
       "area_cluster                        int32\n",
       "population_density                  int64\n",
       "make                                int64\n",
       "segment                             int32\n",
       "model                               int32\n",
       "fuel_type                           int32\n",
       "max_torque                          int32\n",
       "max_power                           int32\n",
       "engine_type                         int32\n",
       "airbags                             int64\n",
       "is_esc                              int32\n",
       "is_adjustable_steering              int32\n",
       "is_tpms                             int32\n",
       "is_parking_sensors                  int32\n",
       "is_parking_camera                   int32\n",
       "rear_brakes_type                    int32\n",
       "displacement                        int64\n",
       "cylinder                            int64\n",
       "transmission_type                   int32\n",
       "gear_box                            int64\n",
       "steering_type                       int32\n",
       "turning_radius                      int64\n",
       "length                              int64\n",
       "width                               int64\n",
       "height                              int64\n",
       "gross_weight                        int64\n",
       "is_front_fog_lights                 int32\n",
       "is_rear_window_wiper                int32\n",
       "is_rear_window_washer               int32\n",
       "is_rear_window_defogger             int32\n",
       "is_brake_assist                     int32\n",
       "is_power_door_locks                 int32\n",
       "is_central_locking                  int32\n",
       "is_power_steering                   int32\n",
       "is_driver_seat_height_adjustable    int32\n",
       "is_day_night_rear_view_mirror       int32\n",
       "is_ecw                              int32\n",
       "is_speed_alert                      int32\n",
       "ncap_rating                         int64\n",
       "dtype: object"
      ]
     },
     "execution_count": 197,
     "metadata": {},
     "output_type": "execute_result"
    }
   ],
   "source": [
    "d_test.dtypes"
   ]
  },
  {
   "cell_type": "code",
   "execution_count": 192,
   "id": "2ce365c4",
   "metadata": {},
   "outputs": [
    {
     "data": {
      "text/plain": [
       "0        ID58593\n",
       "1        ID58594\n",
       "2        ID58595\n",
       "3        ID58596\n",
       "4        ID58597\n",
       "          ...   \n",
       "39058    ID97651\n",
       "39059    ID97652\n",
       "39060    ID97653\n",
       "39061    ID97654\n",
       "39062    ID97655\n",
       "Name: policy_id, Length: 39063, dtype: object"
      ]
     },
     "execution_count": 192,
     "metadata": {},
     "output_type": "execute_result"
    }
   ],
   "source": [
    "policy_id=d_test[\"policy_id\"]\n",
    "policy_id"
   ]
  },
  {
   "cell_type": "markdown",
   "id": "c8f31ab0",
   "metadata": {},
   "source": [
    "# prediction using decision_tree_classifier"
   ]
  },
  {
   "cell_type": "code",
   "execution_count": 198,
   "id": "f861e496",
   "metadata": {},
   "outputs": [
    {
     "data": {
      "text/plain": [
       "array([0, 0, 0, ..., 0, 0, 0], dtype=int64)"
      ]
     },
     "execution_count": 198,
     "metadata": {},
     "output_type": "execute_result"
    }
   ],
   "source": [
    "pred=m2.predict(d_test)\n",
    "pred"
   ]
  },
  {
   "cell_type": "markdown",
   "id": "cc262c40",
   "metadata": {},
   "source": [
    "# "
   ]
  },
  {
   "cell_type": "raw",
   "id": "29136584",
   "metadata": {},
   "source": [
    "#making dataframe"
   ]
  },
  {
   "cell_type": "code",
   "execution_count": 199,
   "id": "c1fac827",
   "metadata": {},
   "outputs": [],
   "source": [
    "df=pd.DataFrame()\n",
    "df[\"policy_id\"]=policy_id\n",
    "df[\"is_claim\"]=pred"
   ]
  },
  {
   "cell_type": "code",
   "execution_count": 204,
   "id": "c8063c91",
   "metadata": {},
   "outputs": [
    {
     "name": "stdout",
     "output_type": "stream",
     "text": [
      "      policy_id  is_claim\n",
      "0       ID58593         0\n",
      "1       ID58594         0\n",
      "2       ID58595         0\n",
      "3       ID58596         0\n",
      "4       ID58597         0\n",
      "...         ...       ...\n",
      "39058   ID97651         0\n",
      "39059   ID97652         0\n",
      "39060   ID97653         0\n",
      "39061   ID97654         0\n",
      "39062   ID97655         0\n",
      "\n",
      "[39063 rows x 2 columns]\n"
     ]
    }
   ],
   "source": [
    "print(df)"
   ]
  },
  {
   "cell_type": "code",
   "execution_count": 209,
   "id": "a4a7ce52",
   "metadata": {},
   "outputs": [
    {
     "data": {
      "text/plain": [
       "1"
      ]
     },
     "execution_count": 209,
     "metadata": {},
     "output_type": "execute_result"
    }
   ],
   "source": [
    "df[\"is_claim\"].max()"
   ]
  },
  {
   "cell_type": "code",
   "execution_count": 210,
   "id": "cd665350",
   "metadata": {},
   "outputs": [
    {
     "data": {
      "text/plain": [
       "0"
      ]
     },
     "execution_count": 210,
     "metadata": {},
     "output_type": "execute_result"
    }
   ],
   "source": [
    "df[\"is_claim\"].min()"
   ]
  },
  {
   "cell_type": "code",
   "execution_count": 211,
   "id": "e249bdb5",
   "metadata": {},
   "outputs": [
    {
     "data": {
      "text/plain": [
       "(39063, 2)"
      ]
     },
     "execution_count": 211,
     "metadata": {},
     "output_type": "execute_result"
    }
   ],
   "source": [
    "df.shape"
   ]
  },
  {
   "cell_type": "code",
   "execution_count": null,
   "id": "97c5335b",
   "metadata": {},
   "outputs": [],
   "source": []
  },
  {
   "cell_type": "code",
   "execution_count": null,
   "id": "7a71bfa4",
   "metadata": {},
   "outputs": [],
   "source": []
  },
  {
   "cell_type": "code",
   "execution_count": null,
   "id": "1259e36a",
   "metadata": {},
   "outputs": [],
   "source": []
  },
  {
   "cell_type": "code",
   "execution_count": null,
   "id": "28c076ff",
   "metadata": {},
   "outputs": [],
   "source": []
  }
 ],
 "metadata": {
  "kernelspec": {
   "display_name": "Python 3 (ipykernel)",
   "language": "python",
   "name": "python3"
  },
  "language_info": {
   "codemirror_mode": {
    "name": "ipython",
    "version": 3
   },
   "file_extension": ".py",
   "mimetype": "text/x-python",
   "name": "python",
   "nbconvert_exporter": "python",
   "pygments_lexer": "ipython3",
   "version": "3.9.12"
  }
 },
 "nbformat": 4,
 "nbformat_minor": 5
}
